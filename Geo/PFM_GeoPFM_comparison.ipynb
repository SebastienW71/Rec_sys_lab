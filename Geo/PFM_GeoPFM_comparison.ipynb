{
 "cells": [
  {
   "cell_type": "markdown",
   "metadata": {},
   "source": [
    "### Poisson Matrix Factorization Evaluation\n",
    "This workbook is to test the Probabilistic factor model (Poisson MF)"
   ]
  },
  {
   "cell_type": "code",
   "execution_count": 1,
   "metadata": {},
   "outputs": [],
   "source": [
    "from poismf import PoisMF\n",
    "import pandas as pd\n",
    "import numpy as np\n",
    "import pickle\n",
    "from geopy.distance import geodesic\n",
    "\n",
    "dir = 'E:\\Sebnewrepo\\Rec_sys_lab\\Geo/'\n",
    "user_item_count = 'user_item_count.pkl'\n",
    "last_n_center = 'last_n_center.pkl'\n",
    "checkin_location = 'checkin_location.pkl'"
   ]
  },
  {
   "cell_type": "code",
   "execution_count": 2,
   "metadata": {},
   "outputs": [],
   "source": [
    "def load_pickle(name):\n",
    "    with open(name, 'rb') as f:\n",
    "        return pickle.load(f, encoding='latin1')"
   ]
  },
  {
   "cell_type": "code",
   "execution_count": 3,
   "metadata": {},
   "outputs": [
    {
     "data": {
      "text/html": [
       "<div>\n",
       "<style scoped>\n",
       "    .dataframe tbody tr th:only-of-type {\n",
       "        vertical-align: middle;\n",
       "    }\n",
       "\n",
       "    .dataframe tbody tr th {\n",
       "        vertical-align: top;\n",
       "    }\n",
       "\n",
       "    .dataframe thead th {\n",
       "        text-align: right;\n",
       "    }\n",
       "</style>\n",
       "<table border=\"1\" class=\"dataframe\">\n",
       "  <thead>\n",
       "    <tr style=\"text-align: right;\">\n",
       "      <th></th>\n",
       "      <th>count</th>\n",
       "      <th>location_encode</th>\n",
       "      <th>user_encode</th>\n",
       "    </tr>\n",
       "  </thead>\n",
       "  <tbody>\n",
       "    <tr>\n",
       "      <th>6542</th>\n",
       "      <td>1</td>\n",
       "      <td>151</td>\n",
       "      <td>0</td>\n",
       "    </tr>\n",
       "    <tr>\n",
       "      <th>6543</th>\n",
       "      <td>2</td>\n",
       "      <td>871</td>\n",
       "      <td>0</td>\n",
       "    </tr>\n",
       "    <tr>\n",
       "      <th>6544</th>\n",
       "      <td>1</td>\n",
       "      <td>1117</td>\n",
       "      <td>0</td>\n",
       "    </tr>\n",
       "    <tr>\n",
       "      <th>6545</th>\n",
       "      <td>1</td>\n",
       "      <td>1279</td>\n",
       "      <td>0</td>\n",
       "    </tr>\n",
       "    <tr>\n",
       "      <th>6546</th>\n",
       "      <td>1</td>\n",
       "      <td>2150</td>\n",
       "      <td>0</td>\n",
       "    </tr>\n",
       "  </tbody>\n",
       "</table>\n",
       "</div>"
      ],
      "text/plain": [
       "      count  location_encode  user_encode\n",
       "6542      1              151            0\n",
       "6543      2              871            0\n",
       "6544      1             1117            0\n",
       "6545      1             1279            0\n",
       "6546      1             2150            0"
      ]
     },
     "execution_count": 3,
     "metadata": {},
     "output_type": "execute_result"
    }
   ],
   "source": [
    "user_records = load_pickle(dir + user_item_count)\n",
    "user_records.head()"
   ]
  },
  {
   "cell_type": "code",
   "execution_count": 4,
   "metadata": {},
   "outputs": [
    {
     "data": {
      "text/html": [
       "<div>\n",
       "<style scoped>\n",
       "    .dataframe tbody tr th:only-of-type {\n",
       "        vertical-align: middle;\n",
       "    }\n",
       "\n",
       "    .dataframe tbody tr th {\n",
       "        vertical-align: top;\n",
       "    }\n",
       "\n",
       "    .dataframe thead th {\n",
       "        text-align: right;\n",
       "    }\n",
       "</style>\n",
       "<table border=\"1\" class=\"dataframe\">\n",
       "  <thead>\n",
       "    <tr style=\"text-align: right;\">\n",
       "      <th></th>\n",
       "      <th>Count</th>\n",
       "      <th>ItemId</th>\n",
       "      <th>UserId</th>\n",
       "    </tr>\n",
       "  </thead>\n",
       "  <tbody>\n",
       "    <tr>\n",
       "      <th>6542</th>\n",
       "      <td>1</td>\n",
       "      <td>151</td>\n",
       "      <td>0</td>\n",
       "    </tr>\n",
       "    <tr>\n",
       "      <th>6543</th>\n",
       "      <td>2</td>\n",
       "      <td>871</td>\n",
       "      <td>0</td>\n",
       "    </tr>\n",
       "    <tr>\n",
       "      <th>6544</th>\n",
       "      <td>1</td>\n",
       "      <td>1117</td>\n",
       "      <td>0</td>\n",
       "    </tr>\n",
       "    <tr>\n",
       "      <th>6545</th>\n",
       "      <td>1</td>\n",
       "      <td>1279</td>\n",
       "      <td>0</td>\n",
       "    </tr>\n",
       "    <tr>\n",
       "      <th>6546</th>\n",
       "      <td>1</td>\n",
       "      <td>2150</td>\n",
       "      <td>0</td>\n",
       "    </tr>\n",
       "  </tbody>\n",
       "</table>\n",
       "</div>"
      ],
      "text/plain": [
       "      Count  ItemId  UserId\n",
       "6542      1     151       0\n",
       "6543      2     871       0\n",
       "6544      1    1117       0\n",
       "6545      1    1279       0\n",
       "6546      1    2150       0"
      ]
     },
     "execution_count": 4,
     "metadata": {},
     "output_type": "execute_result"
    }
   ],
   "source": [
    "user_records.rename(columns = {'user_encode':'UserId','location_encode':'ItemId', 'count': 'Count'}, inplace = True)\n",
    "user_records.head()"
   ]
  },
  {
   "cell_type": "code",
   "execution_count": 5,
   "metadata": {},
   "outputs": [
    {
     "data": {
      "text/html": [
       "<div>\n",
       "<style scoped>\n",
       "    .dataframe tbody tr th:only-of-type {\n",
       "        vertical-align: middle;\n",
       "    }\n",
       "\n",
       "    .dataframe tbody tr th {\n",
       "        vertical-align: top;\n",
       "    }\n",
       "\n",
       "    .dataframe thead th {\n",
       "        text-align: right;\n",
       "    }\n",
       "</style>\n",
       "<table border=\"1\" class=\"dataframe\">\n",
       "  <thead>\n",
       "    <tr style=\"text-align: right;\">\n",
       "      <th></th>\n",
       "      <th>Count</th>\n",
       "      <th>ItemId</th>\n",
       "      <th>UserId</th>\n",
       "    </tr>\n",
       "  </thead>\n",
       "  <tbody>\n",
       "    <tr>\n",
       "      <th>8983</th>\n",
       "      <td>1</td>\n",
       "      <td>520</td>\n",
       "      <td>1</td>\n",
       "    </tr>\n",
       "    <tr>\n",
       "      <th>9008</th>\n",
       "      <td>1</td>\n",
       "      <td>96386</td>\n",
       "      <td>1</td>\n",
       "    </tr>\n",
       "    <tr>\n",
       "      <th>9009</th>\n",
       "      <td>1</td>\n",
       "      <td>96394</td>\n",
       "      <td>1</td>\n",
       "    </tr>\n",
       "    <tr>\n",
       "      <th>9010</th>\n",
       "      <td>1</td>\n",
       "      <td>96611</td>\n",
       "      <td>1</td>\n",
       "    </tr>\n",
       "    <tr>\n",
       "      <th>9011</th>\n",
       "      <td>1</td>\n",
       "      <td>101088</td>\n",
       "      <td>1</td>\n",
       "    </tr>\n",
       "    <tr>\n",
       "      <th>9012</th>\n",
       "      <td>1</td>\n",
       "      <td>101446</td>\n",
       "      <td>1</td>\n",
       "    </tr>\n",
       "    <tr>\n",
       "      <th>9013</th>\n",
       "      <td>1</td>\n",
       "      <td>102134</td>\n",
       "      <td>1</td>\n",
       "    </tr>\n",
       "    <tr>\n",
       "      <th>9014</th>\n",
       "      <td>1</td>\n",
       "      <td>103139</td>\n",
       "      <td>1</td>\n",
       "    </tr>\n",
       "    <tr>\n",
       "      <th>9016</th>\n",
       "      <td>1</td>\n",
       "      <td>106583</td>\n",
       "      <td>1</td>\n",
       "    </tr>\n",
       "    <tr>\n",
       "      <th>9017</th>\n",
       "      <td>1</td>\n",
       "      <td>107775</td>\n",
       "      <td>1</td>\n",
       "    </tr>\n",
       "    <tr>\n",
       "      <th>9018</th>\n",
       "      <td>1</td>\n",
       "      <td>107939</td>\n",
       "      <td>1</td>\n",
       "    </tr>\n",
       "    <tr>\n",
       "      <th>9019</th>\n",
       "      <td>1</td>\n",
       "      <td>107941</td>\n",
       "      <td>1</td>\n",
       "    </tr>\n",
       "    <tr>\n",
       "      <th>9020</th>\n",
       "      <td>1</td>\n",
       "      <td>108695</td>\n",
       "      <td>1</td>\n",
       "    </tr>\n",
       "    <tr>\n",
       "      <th>9021</th>\n",
       "      <td>1</td>\n",
       "      <td>108916</td>\n",
       "      <td>1</td>\n",
       "    </tr>\n",
       "    <tr>\n",
       "      <th>9022</th>\n",
       "      <td>1</td>\n",
       "      <td>109104</td>\n",
       "      <td>1</td>\n",
       "    </tr>\n",
       "    <tr>\n",
       "      <th>9023</th>\n",
       "      <td>1</td>\n",
       "      <td>109340</td>\n",
       "      <td>1</td>\n",
       "    </tr>\n",
       "    <tr>\n",
       "      <th>9024</th>\n",
       "      <td>1</td>\n",
       "      <td>109558</td>\n",
       "      <td>1</td>\n",
       "    </tr>\n",
       "    <tr>\n",
       "      <th>9025</th>\n",
       "      <td>1</td>\n",
       "      <td>112104</td>\n",
       "      <td>1</td>\n",
       "    </tr>\n",
       "    <tr>\n",
       "      <th>9026</th>\n",
       "      <td>1</td>\n",
       "      <td>112588</td>\n",
       "      <td>1</td>\n",
       "    </tr>\n",
       "    <tr>\n",
       "      <th>9027</th>\n",
       "      <td>1</td>\n",
       "      <td>113395</td>\n",
       "      <td>1</td>\n",
       "    </tr>\n",
       "    <tr>\n",
       "      <th>9007</th>\n",
       "      <td>1</td>\n",
       "      <td>95531</td>\n",
       "      <td>1</td>\n",
       "    </tr>\n",
       "    <tr>\n",
       "      <th>9028</th>\n",
       "      <td>1</td>\n",
       "      <td>113721</td>\n",
       "      <td>1</td>\n",
       "    </tr>\n",
       "    <tr>\n",
       "      <th>9006</th>\n",
       "      <td>1</td>\n",
       "      <td>83514</td>\n",
       "      <td>1</td>\n",
       "    </tr>\n",
       "    <tr>\n",
       "      <th>9004</th>\n",
       "      <td>1</td>\n",
       "      <td>73983</td>\n",
       "      <td>1</td>\n",
       "    </tr>\n",
       "    <tr>\n",
       "      <th>8984</th>\n",
       "      <td>1</td>\n",
       "      <td>1204</td>\n",
       "      <td>1</td>\n",
       "    </tr>\n",
       "    <tr>\n",
       "      <th>8986</th>\n",
       "      <td>1</td>\n",
       "      <td>2611</td>\n",
       "      <td>1</td>\n",
       "    </tr>\n",
       "    <tr>\n",
       "      <th>8987</th>\n",
       "      <td>1</td>\n",
       "      <td>3415</td>\n",
       "      <td>1</td>\n",
       "    </tr>\n",
       "    <tr>\n",
       "      <th>8988</th>\n",
       "      <td>1</td>\n",
       "      <td>4516</td>\n",
       "      <td>1</td>\n",
       "    </tr>\n",
       "    <tr>\n",
       "      <th>8989</th>\n",
       "      <td>1</td>\n",
       "      <td>8160</td>\n",
       "      <td>1</td>\n",
       "    </tr>\n",
       "    <tr>\n",
       "      <th>8990</th>\n",
       "      <td>1</td>\n",
       "      <td>11090</td>\n",
       "      <td>1</td>\n",
       "    </tr>\n",
       "    <tr>\n",
       "      <th>8991</th>\n",
       "      <td>1</td>\n",
       "      <td>11455</td>\n",
       "      <td>1</td>\n",
       "    </tr>\n",
       "    <tr>\n",
       "      <th>8992</th>\n",
       "      <td>1</td>\n",
       "      <td>14416</td>\n",
       "      <td>1</td>\n",
       "    </tr>\n",
       "    <tr>\n",
       "      <th>8993</th>\n",
       "      <td>1</td>\n",
       "      <td>14909</td>\n",
       "      <td>1</td>\n",
       "    </tr>\n",
       "    <tr>\n",
       "      <th>9005</th>\n",
       "      <td>1</td>\n",
       "      <td>80512</td>\n",
       "      <td>1</td>\n",
       "    </tr>\n",
       "    <tr>\n",
       "      <th>8994</th>\n",
       "      <td>1</td>\n",
       "      <td>15304</td>\n",
       "      <td>1</td>\n",
       "    </tr>\n",
       "    <tr>\n",
       "      <th>8996</th>\n",
       "      <td>1</td>\n",
       "      <td>27211</td>\n",
       "      <td>1</td>\n",
       "    </tr>\n",
       "    <tr>\n",
       "      <th>8997</th>\n",
       "      <td>1</td>\n",
       "      <td>41437</td>\n",
       "      <td>1</td>\n",
       "    </tr>\n",
       "    <tr>\n",
       "      <th>8998</th>\n",
       "      <td>1</td>\n",
       "      <td>43459</td>\n",
       "      <td>1</td>\n",
       "    </tr>\n",
       "    <tr>\n",
       "      <th>8999</th>\n",
       "      <td>1</td>\n",
       "      <td>53345</td>\n",
       "      <td>1</td>\n",
       "    </tr>\n",
       "    <tr>\n",
       "      <th>9001</th>\n",
       "      <td>1</td>\n",
       "      <td>57404</td>\n",
       "      <td>1</td>\n",
       "    </tr>\n",
       "    <tr>\n",
       "      <th>9002</th>\n",
       "      <td>1</td>\n",
       "      <td>59088</td>\n",
       "      <td>1</td>\n",
       "    </tr>\n",
       "    <tr>\n",
       "      <th>9003</th>\n",
       "      <td>1</td>\n",
       "      <td>61471</td>\n",
       "      <td>1</td>\n",
       "    </tr>\n",
       "    <tr>\n",
       "      <th>8995</th>\n",
       "      <td>1</td>\n",
       "      <td>26420</td>\n",
       "      <td>1</td>\n",
       "    </tr>\n",
       "    <tr>\n",
       "      <th>9029</th>\n",
       "      <td>1</td>\n",
       "      <td>115770</td>\n",
       "      <td>1</td>\n",
       "    </tr>\n",
       "    <tr>\n",
       "      <th>9015</th>\n",
       "      <td>2</td>\n",
       "      <td>103265</td>\n",
       "      <td>1</td>\n",
       "    </tr>\n",
       "    <tr>\n",
       "      <th>9000</th>\n",
       "      <td>2</td>\n",
       "      <td>57216</td>\n",
       "      <td>1</td>\n",
       "    </tr>\n",
       "    <tr>\n",
       "      <th>8985</th>\n",
       "      <td>2</td>\n",
       "      <td>1263</td>\n",
       "      <td>1</td>\n",
       "    </tr>\n",
       "  </tbody>\n",
       "</table>\n",
       "</div>"
      ],
      "text/plain": [
       "      Count  ItemId  UserId\n",
       "8983      1     520       1\n",
       "9008      1   96386       1\n",
       "9009      1   96394       1\n",
       "9010      1   96611       1\n",
       "9011      1  101088       1\n",
       "9012      1  101446       1\n",
       "9013      1  102134       1\n",
       "9014      1  103139       1\n",
       "9016      1  106583       1\n",
       "9017      1  107775       1\n",
       "9018      1  107939       1\n",
       "9019      1  107941       1\n",
       "9020      1  108695       1\n",
       "9021      1  108916       1\n",
       "9022      1  109104       1\n",
       "9023      1  109340       1\n",
       "9024      1  109558       1\n",
       "9025      1  112104       1\n",
       "9026      1  112588       1\n",
       "9027      1  113395       1\n",
       "9007      1   95531       1\n",
       "9028      1  113721       1\n",
       "9006      1   83514       1\n",
       "9004      1   73983       1\n",
       "8984      1    1204       1\n",
       "8986      1    2611       1\n",
       "8987      1    3415       1\n",
       "8988      1    4516       1\n",
       "8989      1    8160       1\n",
       "8990      1   11090       1\n",
       "8991      1   11455       1\n",
       "8992      1   14416       1\n",
       "8993      1   14909       1\n",
       "9005      1   80512       1\n",
       "8994      1   15304       1\n",
       "8996      1   27211       1\n",
       "8997      1   41437       1\n",
       "8998      1   43459       1\n",
       "8999      1   53345       1\n",
       "9001      1   57404       1\n",
       "9002      1   59088       1\n",
       "9003      1   61471       1\n",
       "8995      1   26420       1\n",
       "9029      1  115770       1\n",
       "9015      2  103265       1\n",
       "9000      2   57216       1\n",
       "8985      2    1263       1"
      ]
     },
     "execution_count": 5,
     "metadata": {},
     "output_type": "execute_result"
    }
   ],
   "source": [
    "user_records[user_records['UserId'] == 1].sort_values(by = ['Count'])"
   ]
  },
  {
   "cell_type": "markdown",
   "metadata": {},
   "source": [
    "#### Train Test Split"
   ]
  },
  {
   "cell_type": "code",
   "execution_count": 6,
   "metadata": {},
   "outputs": [],
   "source": [
    "from sklearn.model_selection import train_test_split\n",
    "from copy import deepcopy"
   ]
  },
  {
   "cell_type": "code",
   "execution_count": 7,
   "metadata": {},
   "outputs": [
    {
     "name": "stdout",
     "output_type": "stream",
     "text": [
      "Number of entries in training data: 117,889\n",
      "Number of entries in test data: 8,353\n",
      "Number of users in training data: 5,000\n",
      "Number of users in test data: 3,341\n",
      "Number of items in training and test data: 95,249\n"
     ]
    }
   ],
   "source": [
    "df_train, df_test = train_test_split(user_records, test_size=.2)\n",
    "df_train = df_train.copy()\n",
    "users_train = np.unique(df_train.UserId.to_numpy())\n",
    "items_train = np.unique(df_train.ItemId.to_numpy())\n",
    "df_test = df_test.loc[df_test.UserId.isin(users_train) &\n",
    "                      df_test.ItemId.isin(items_train)]\n",
    "df_train[\"UserId\"] = pd.Categorical(df_train.UserId, users_train).codes\n",
    "df_train[\"ItemId\"] = pd.Categorical(df_train.ItemId, items_train).codes\n",
    "df_test[\"UserId\"] = pd.Categorical(df_test.UserId, users_train).codes\n",
    "df_test[\"ItemId\"] = pd.Categorical(df_test.ItemId, items_train).codes\n",
    "users_test = np.unique(df_test.UserId.to_numpy())\n",
    "\n",
    "print(\"Number of entries in training data: {:,}\".format(df_train.shape[0]))\n",
    "print(\"Number of entries in test data: {:,}\".format(df_test.shape[0]))\n",
    "print(\"Number of users in training data: {:,}\".format(users_train.shape[0]))\n",
    "print(\"Number of users in test data: {:,}\".format(users_test.shape[0]))\n",
    "print(\"Number of items in training and test data: {:,}\".format(items_train.shape[0]))"
   ]
  },
  {
   "cell_type": "markdown",
   "metadata": {},
   "source": [
    "#### Ranking Metrics for Evaluation"
   ]
  },
  {
   "cell_type": "code",
   "execution_count": 8,
   "metadata": {},
   "outputs": [],
   "source": [
    "from sklearn.metrics import roc_auc_score\n",
    "from joblib import Parallel, delayed\n",
    "\n",
    "from sklearn.metrics import roc_auc_score\n",
    "from joblib import Parallel, delayed\n",
    "\n",
    "## Note: this is a computationally inefficient implementation of the\n",
    "## test metrics, not recommended to use outside of this notebook\n",
    "def print_ranking_metrics(A, B, df_train, df_test, users_test,\n",
    "                          nusers=1000, top_n=5, seed=1,\n",
    "                          njobs=-1):\n",
    "    \n",
    "    n_users = A.shape[0]\n",
    "    n_items = B.shape[0]\n",
    "    rng = np.random.default_rng(seed=seed)\n",
    "    chosen_users = rng.choice(users_test, size=nusers, replace=False)\n",
    "    all_train = df_train.loc[df_train.UserId.isin(chosen_users)]\n",
    "    all_test = df_test.loc[df_test.UserId.isin(chosen_users)]\n",
    "    \n",
    "    def metrics_single_user(user):\n",
    "        # item in the test set\n",
    "        ypos = all_test.ItemId.loc[all_test.UserId == user].to_numpy()\n",
    "        # item in the train set\n",
    "        ytrain = all_train.ItemId.loc[all_train.UserId == user].to_numpy()\n",
    "        # item not in the train and test set - neglect set\n",
    "        yneg = np.setdiff1d(np.arange(n_items), np.r_[ypos, ytrain])\n",
    "        # the test item should be in neglect set and test set\n",
    "        ytest = np.r_[yneg, ypos]\n",
    "        # the first yneg-th items are from neglect set, the last ypos-th items are from test set\n",
    "        yhat = B[ytest].dot(A[user])\n",
    "        auc = roc_auc_score(np.r_[np.zeros(yneg.shape[0]),\n",
    "                                  np.ones(ypos.shape[0])],\n",
    "                            yhat)\n",
    "        # if the index of the top Ns are in last ypos-th index, this rec is a successful rec\n",
    "        topN = np.argsort(-yhat)[:top_n]\n",
    "        p_at_k = np.mean(topN >= yneg.shape[0])\n",
    "        p_at_k_rnd = ypos.shape[0] / ytest.shape[0] ## <- baseline\n",
    "        return auc, p_at_k, p_at_k_rnd\n",
    "\n",
    "    res_triplets = Parallel(n_jobs = njobs)\\\n",
    "                    (delayed(metrics_single_user)(u) \\\n",
    "                        for u in chosen_users)\n",
    "\n",
    "    res_triplets = np.array(res_triplets)\n",
    "    auc = np.mean(res_triplets[:,0])\n",
    "    p_at_k = np.mean(res_triplets[:,1])\n",
    "    p_at_k_rnd = np.mean(res_triplets[:,2])\n",
    "    print(\"AUC: %.4f [random: %.2f]\" % (auc, 0.5))\n",
    "    print(\"P@%d: %.4f [random: %.4f]\" % (top_n,\n",
    "                                         p_at_k,\n",
    "                                         p_at_k_rnd))"
   ]
  },
  {
   "cell_type": "markdown",
   "metadata": {},
   "source": [
    "#### Model Fitting"
   ]
  },
  {
   "cell_type": "code",
   "execution_count": 34,
   "metadata": {},
   "outputs": [
    {
     "name": "stdout",
     "output_type": "stream",
     "text": [
      "Wall time: 14.2 s\n"
     ]
    }
   ],
   "source": [
    "%%time\n",
    "model_balanced = PoisMF(reindex=False, method=\"cg\", use_float=False,\n",
    "                        k=200, niter=50, maxupd=25, l2_reg=1e4)\\\n",
    "                    .fit(df_train)"
   ]
  },
  {
   "cell_type": "code",
   "execution_count": 35,
   "metadata": {},
   "outputs": [
    {
     "name": "stdout",
     "output_type": "stream",
     "text": [
      "AUC: 0.9053 [random: 0.50]\n",
      "P@5: 0.0230 [random: 0.0000]\n"
     ]
    }
   ],
   "source": [
    "#Precision of top 5\n",
    "print_ranking_metrics(model_balanced.A, model_balanced.B,\n",
    "                      df_train, df_test, users_test, top_n=5)"
   ]
  },
  {
   "cell_type": "code",
   "execution_count": 36,
   "metadata": {},
   "outputs": [
    {
     "name": "stdout",
     "output_type": "stream",
     "text": [
      "AUC: 0.9053 [random: 0.50]\n",
      "P@10: 0.0158 [random: 0.0000]\n"
     ]
    }
   ],
   "source": [
    "#Precision of top 10\n",
    "print_ranking_metrics(model_balanced.A, model_balanced.B,\n",
    "                      df_train, df_test, users_test, top_n=10)"
   ]
  },
  {
   "cell_type": "markdown",
   "metadata": {},
   "source": [
    "### PMF with Geo Factors\n",
    "The distance factor for the final prediction matrix is:\n",
    "$ \\Bigg[\\frac{{d}_{0}}{{d}_{0} + {d(i,j)}}\\Bigg]^\\tau $  \n",
    "\n",
    "So. the equation for final prediction matirx is :\n",
    "$ {f}_{i,j} = {u}^{T}_{i}{v}_{j} * \\Bigg[\\frac{{d}_{0}}{{d}_{0} + {d(i,j)}}\\Bigg]^\\tau $\n",
    "\n",
    "${d}_{0}$ is the user daily activity range: lets assume ${d}_{0} = 100km $"
   ]
  },
  {
   "cell_type": "code",
   "execution_count": 37,
   "metadata": {},
   "outputs": [],
   "source": [
    "# load last-n center file and checkin\n",
    "n_center = load_pickle(dir + last_n_center)\n",
    "location = load_pickle(dir + checkin_location)"
   ]
  },
  {
   "cell_type": "code",
   "execution_count": 38,
   "metadata": {},
   "outputs": [
    {
     "data": {
      "text/html": [
       "<div>\n",
       "<style scoped>\n",
       "    .dataframe tbody tr th:only-of-type {\n",
       "        vertical-align: middle;\n",
       "    }\n",
       "\n",
       "    .dataframe tbody tr th {\n",
       "        vertical-align: top;\n",
       "    }\n",
       "\n",
       "    .dataframe thead th {\n",
       "        text-align: right;\n",
       "    }\n",
       "</style>\n",
       "<table border=\"1\" class=\"dataframe\">\n",
       "  <thead>\n",
       "    <tr style=\"text-align: right;\">\n",
       "      <th></th>\n",
       "      <th>latitude</th>\n",
       "      <th>longitude</th>\n",
       "    </tr>\n",
       "    <tr>\n",
       "      <th>user_mapping</th>\n",
       "      <th></th>\n",
       "      <th></th>\n",
       "    </tr>\n",
       "  </thead>\n",
       "  <tbody>\n",
       "    <tr>\n",
       "      <th>0</th>\n",
       "      <td>30.376921</td>\n",
       "      <td>-97.756796</td>\n",
       "    </tr>\n",
       "    <tr>\n",
       "      <th>1</th>\n",
       "      <td>47.823526</td>\n",
       "      <td>9.887863</td>\n",
       "    </tr>\n",
       "    <tr>\n",
       "      <th>2</th>\n",
       "      <td>28.373947</td>\n",
       "      <td>-81.536761</td>\n",
       "    </tr>\n",
       "    <tr>\n",
       "      <th>3</th>\n",
       "      <td>51.097721</td>\n",
       "      <td>-0.936662</td>\n",
       "    </tr>\n",
       "    <tr>\n",
       "      <th>4</th>\n",
       "      <td>30.315782</td>\n",
       "      <td>-97.732966</td>\n",
       "    </tr>\n",
       "  </tbody>\n",
       "</table>\n",
       "</div>"
      ],
      "text/plain": [
       "               latitude  longitude\n",
       "user_mapping                      \n",
       "0             30.376921 -97.756796\n",
       "1             47.823526   9.887863\n",
       "2             28.373947 -81.536761\n",
       "3             51.097721  -0.936662\n",
       "4             30.315782 -97.732966"
      ]
     },
     "execution_count": 38,
     "metadata": {},
     "output_type": "execute_result"
    }
   ],
   "source": [
    "n_center.head()"
   ]
  },
  {
   "cell_type": "code",
   "execution_count": 39,
   "metadata": {},
   "outputs": [],
   "source": [
    "from math import radians, cos, sin, asin, sqrt\n",
    "def geodistance(lng1, lat1, lng2, lat2):\n",
    "    \n",
    "    lng1, lat1, lng2, lat2 = map(radians, [float(lng1), float(lat1), float(lng2), float(lat2)])\n",
    "    dlon=lng2-lng1\n",
    "    dlat=lat2-lat1\n",
    "    a=sin(dlat/2)**2 + cos(lat1) * cos(lat2) * sin(dlon/2)**2 \n",
    "    distance=2*asin(sqrt(a))*6371*1000\n",
    "    distance=round(distance/1000,3)\n",
    "    return distance\n",
    "\n"
   ]
  },
  {
   "cell_type": "code",
   "execution_count": 53,
   "metadata": {},
   "outputs": [],
   "source": [
    "from sklearn.metrics import roc_auc_score\n",
    "from joblib import Parallel, delayed\n",
    "\n",
    "from sklearn.metrics import roc_auc_score\n",
    "from joblib import Parallel, delayed\n",
    "\n",
    "## Note: this is a computationally inefficient implementation of the\n",
    "## test metrics, not recommended to use outside of this notebook\n",
    "def print_ranking_metrics_GEO(A, B, df_train, df_test, users_test, location,\n",
    "                          nusers=1000, top_n=5, seed=1,\n",
    "                          njobs=-1):\n",
    "    \n",
    "    n_users = A.shape[0]\n",
    "    n_items = B.shape[0]\n",
    "    rng = np.random.default_rng(seed=seed)\n",
    "    chosen_users = rng.choice(users_test, size=nusers, replace=False)\n",
    "    all_train = df_train.loc[df_train.UserId.isin(chosen_users)]\n",
    "    all_test = df_test.loc[df_test.UserId.isin(chosen_users)]\n",
    "    \n",
    "    def metrics_single_user_GEO(user, location):\n",
    "        # item in the test set\n",
    "        ypos = all_test.ItemId.loc[all_test.UserId == user].to_numpy()\n",
    "        # item in the train set\n",
    "        ytrain = all_train.ItemId.loc[all_train.UserId == user].to_numpy()\n",
    "        # item not in the train and test set - neglect set\n",
    "        yneg = np.setdiff1d(np.arange(n_items), np.r_[ypos, ytrain])\n",
    "        # the test item should be in neglect set and test set\n",
    "        ytest = np.r_[yneg, ypos]\n",
    "        # the first yneg-th items are from neglect set, the last ypos-th items are from test set\n",
    "        yhat = B[ytest].dot(A[user])\n",
    "        auc = roc_auc_score(np.r_[np.zeros(yneg.shape[0]),\n",
    "                                  np.ones(ypos.shape[0])],\n",
    "                            yhat)\n",
    "        # multiply with geo factor\n",
    "        check = location.loc[ytest][:]\n",
    "        dist = check[['latitude','longitude']]\\\n",
    "               .apply(lambda x: 1000/(1000+geodistance(x['longitude'],\n",
    "                                            x['latitude'],\n",
    "                                            user_actCenter['longitude'],\n",
    "                                            user_actCenter['latitude'])),axis=1)\n",
    "        m = yhat * dist.to_numpy()\n",
    "        \n",
    "        # if the index of the top Ns are in last ypos-th index, this rec is a successful rec\n",
    "        \n",
    "        topN = np.argsort(-m)[:top_n]\n",
    "        p_at_k = np.mean(topN >= yneg.shape[0])\n",
    "        p_at_k_rnd = ypos.shape[0] / ytest.shape[0] ## <- baseline\n",
    "        return auc, p_at_k, p_at_k_rnd\n",
    "\n",
    "    res_triplets = Parallel(n_jobs = njobs)\\\n",
    "                    (delayed(metrics_single_user_GEO)(u, location) \\\n",
    "                        for u in chosen_users)\n",
    "\n",
    "    res_triplets = np.array(res_triplets)\n",
    "    auc = np.mean(res_triplets[:,0])\n",
    "    p_at_k = np.mean(res_triplets[:,1])\n",
    "    p_at_k_rnd = np.mean(res_triplets[:,2])\n",
    "    print(\"AUC: %.4f [random: %.2f]\" % (auc, 0.5))\n",
    "    print(\"P@%d: %.4f [random: %.4f]\" % (top_n,\n",
    "                                         p_at_k,\n",
    "                                         p_at_k_rnd))"
   ]
  },
  {
   "cell_type": "code",
   "execution_count": 55,
   "metadata": {},
   "outputs": [
    {
     "name": "stdout",
     "output_type": "stream",
     "text": [
      "AUC: 0.9053 [random: 0.50]\n",
      "P@10: 0.0073 [random: 0.0000]\n"
     ]
    }
   ],
   "source": [
    "print_ranking_metrics_GEO(model_balanced.A, model_balanced.B,\n",
    "                      df_train, df_test, users_test, location, top_n=10)"
   ]
  },
  {
   "cell_type": "markdown",
   "metadata": {},
   "source": [
    "#### Test Mode"
   ]
  },
  {
   "cell_type": "code",
   "execution_count": 41,
   "metadata": {},
   "outputs": [],
   "source": [
    "n_users = model_balanced.A.shape[0]\n",
    "n_items = model_balanced.B.shape[0]\n",
    "rng = np.random.default_rng(seed=1)\n",
    "chosen_users = rng.choice(users_test, size=1000, replace=False)\n",
    "all_train = df_train.loc[df_train.UserId.isin(chosen_users)]\n",
    "all_test = df_test.loc[df_test.UserId.isin(chosen_users)]"
   ]
  },
  {
   "cell_type": "code",
   "execution_count": 42,
   "metadata": {},
   "outputs": [
    {
     "data": {
      "text/html": [
       "<div>\n",
       "<style scoped>\n",
       "    .dataframe tbody tr th:only-of-type {\n",
       "        vertical-align: middle;\n",
       "    }\n",
       "\n",
       "    .dataframe tbody tr th {\n",
       "        vertical-align: top;\n",
       "    }\n",
       "\n",
       "    .dataframe thead th {\n",
       "        text-align: right;\n",
       "    }\n",
       "</style>\n",
       "<table border=\"1\" class=\"dataframe\">\n",
       "  <thead>\n",
       "    <tr style=\"text-align: right;\">\n",
       "      <th></th>\n",
       "      <th>Count</th>\n",
       "      <th>ItemId</th>\n",
       "      <th>UserId</th>\n",
       "    </tr>\n",
       "  </thead>\n",
       "  <tbody>\n",
       "    <tr>\n",
       "      <th>3398335</th>\n",
       "      <td>1</td>\n",
       "      <td>2444</td>\n",
       "      <td>3721</td>\n",
       "    </tr>\n",
       "    <tr>\n",
       "      <th>3691098</th>\n",
       "      <td>1</td>\n",
       "      <td>11059</td>\n",
       "      <td>4286</td>\n",
       "    </tr>\n",
       "    <tr>\n",
       "      <th>3329980</th>\n",
       "      <td>1</td>\n",
       "      <td>27638</td>\n",
       "      <td>3628</td>\n",
       "    </tr>\n",
       "    <tr>\n",
       "      <th>3442507</th>\n",
       "      <td>1</td>\n",
       "      <td>8581</td>\n",
       "      <td>3797</td>\n",
       "    </tr>\n",
       "    <tr>\n",
       "      <th>1268361</th>\n",
       "      <td>1</td>\n",
       "      <td>1603</td>\n",
       "      <td>591</td>\n",
       "    </tr>\n",
       "    <tr>\n",
       "      <th>...</th>\n",
       "      <td>...</td>\n",
       "      <td>...</td>\n",
       "      <td>...</td>\n",
       "    </tr>\n",
       "    <tr>\n",
       "      <th>3730104</th>\n",
       "      <td>1</td>\n",
       "      <td>44967</td>\n",
       "      <td>4368</td>\n",
       "    </tr>\n",
       "    <tr>\n",
       "      <th>2686543</th>\n",
       "      <td>2</td>\n",
       "      <td>8967</td>\n",
       "      <td>2710</td>\n",
       "    </tr>\n",
       "    <tr>\n",
       "      <th>742593</th>\n",
       "      <td>1</td>\n",
       "      <td>1086</td>\n",
       "      <td>202</td>\n",
       "    </tr>\n",
       "    <tr>\n",
       "      <th>828721</th>\n",
       "      <td>1</td>\n",
       "      <td>7816</td>\n",
       "      <td>249</td>\n",
       "    </tr>\n",
       "    <tr>\n",
       "      <th>3882976</th>\n",
       "      <td>2</td>\n",
       "      <td>9223</td>\n",
       "      <td>4757</td>\n",
       "    </tr>\n",
       "  </tbody>\n",
       "</table>\n",
       "<p>2466 rows × 3 columns</p>\n",
       "</div>"
      ],
      "text/plain": [
       "         Count  ItemId  UserId\n",
       "3398335      1    2444    3721\n",
       "3691098      1   11059    4286\n",
       "3329980      1   27638    3628\n",
       "3442507      1    8581    3797\n",
       "1268361      1    1603     591\n",
       "...        ...     ...     ...\n",
       "3730104      1   44967    4368\n",
       "2686543      2    8967    2710\n",
       "742593       1    1086     202\n",
       "828721       1    7816     249\n",
       "3882976      2    9223    4757\n",
       "\n",
       "[2466 rows x 3 columns]"
      ]
     },
     "execution_count": 42,
     "metadata": {},
     "output_type": "execute_result"
    }
   ],
   "source": [
    "all_test"
   ]
  },
  {
   "cell_type": "code",
   "execution_count": 44,
   "metadata": {},
   "outputs": [],
   "source": [
    "ypos = all_test.ItemId.loc[all_test.UserId == 3628].to_numpy()\n",
    "ytrain = all_train.ItemId.loc[all_train.UserId == 3628].to_numpy()\n",
    "yneg = np.setdiff1d(np.arange(n_items), np.r_[ypos, ytrain])\n",
    "ytest = np.r_[yneg, ypos]\n",
    "yhat = model_balanced.B[ytest].dot(model_balanced.A[3628])"
   ]
  },
  {
   "cell_type": "code",
   "execution_count": 45,
   "metadata": {},
   "outputs": [
    {
     "data": {
      "text/plain": [
       "array([    0,     1,     2, ..., 95248, 27638, 20750])"
      ]
     },
     "execution_count": 45,
     "metadata": {},
     "output_type": "execute_result"
    }
   ],
   "source": [
    "ytest"
   ]
  },
  {
   "cell_type": "code",
   "execution_count": 47,
   "metadata": {},
   "outputs": [
    {
     "data": {
      "text/plain": [
       "latitude     36.653916\n",
       "longitude    37.718318\n",
       "Name: 3628, dtype: float64"
      ]
     },
     "execution_count": 47,
     "metadata": {},
     "output_type": "execute_result"
    }
   ],
   "source": [
    "user_actCenter = n_center.loc[3628][:]\n",
    "user_actCenter"
   ]
  },
  {
   "cell_type": "code",
   "execution_count": 48,
   "metadata": {},
   "outputs": [
    {
     "name": "stdout",
     "output_type": "stream",
     "text": [
      "Wall time: 1.57 s\n"
     ]
    },
    {
     "data": {
      "text/plain": [
       "(95218,)"
      ]
     },
     "execution_count": 48,
     "metadata": {},
     "output_type": "execute_result"
    }
   ],
   "source": [
    "%%time\n",
    "ttt = location.loc[ytest][['latitude','longitude']]\n",
    "dist = ttt[['latitude','longitude']]\\\n",
    "               .apply(lambda x: 100/(100+geodistance(x['longitude'],\n",
    "                                            x['latitude'],\n",
    "                                            user_actCenter['longitude'],\n",
    "                                            user_actCenter['latitude'])),axis=1)\n",
    "dist.shape"
   ]
  },
  {
   "cell_type": "code",
   "execution_count": 49,
   "metadata": {},
   "outputs": [
    {
     "data": {
      "text/plain": [
       "0        0.009029\n",
       "1        0.008600\n",
       "2        0.009035\n",
       "3        0.009025\n",
       "4        0.009036\n",
       "           ...   \n",
       "95246    0.010361\n",
       "95247    0.031430\n",
       "95248    0.010241\n",
       "27638    0.008363\n",
       "20750    0.036111\n",
       "Length: 95218, dtype: float64"
      ]
     },
     "execution_count": 49,
     "metadata": {},
     "output_type": "execute_result"
    }
   ],
   "source": [
    "dist"
   ]
  },
  {
   "cell_type": "code",
   "execution_count": 50,
   "metadata": {},
   "outputs": [
    {
     "data": {
      "text/plain": [
       "array([1.00837026e-06, 8.03237702e-05, 0.00000000e+00, ...,\n",
       "       0.00000000e+00, 1.18829821e-06, 7.59651378e-06])"
      ]
     },
     "execution_count": 50,
     "metadata": {},
     "output_type": "execute_result"
    }
   ],
   "source": [
    "yhat"
   ]
  },
  {
   "cell_type": "code",
   "execution_count": 222,
   "metadata": {},
   "outputs": [],
   "source": [
    "m = yhat * dist.to_numpy()"
   ]
  },
  {
   "cell_type": "code",
   "execution_count": 223,
   "metadata": {},
   "outputs": [
    {
     "data": {
      "text/plain": [
       "array([   307,    171, 941724,   6444,    156], dtype=int64)"
      ]
     },
     "execution_count": 223,
     "metadata": {},
     "output_type": "execute_result"
    }
   ],
   "source": [
    "np.argsort(-m)[:5]"
   ]
  },
  {
   "cell_type": "code",
   "execution_count": null,
   "metadata": {},
   "outputs": [],
   "source": []
  }
 ],
 "metadata": {
  "kernelspec": {
   "display_name": "Python 3",
   "language": "python",
   "name": "python3"
  },
  "language_info": {
   "codemirror_mode": {
    "name": "ipython",
    "version": 3
   },
   "file_extension": ".py",
   "mimetype": "text/x-python",
   "name": "python",
   "nbconvert_exporter": "python",
   "pygments_lexer": "ipython3",
   "version": "3.7.10"
  }
 },
 "nbformat": 4,
 "nbformat_minor": 4
}
