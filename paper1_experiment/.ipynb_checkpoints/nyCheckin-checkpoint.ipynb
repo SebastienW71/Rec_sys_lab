{
 "cells": [
  {
   "cell_type": "code",
   "execution_count": 1,
   "metadata": {},
   "outputs": [],
   "source": [
    "import pandas as pd\n",
    "import numpy as np\n",
    "\n",
    "dir = 'E:\\\\Sebnewrepo\\\\Data\\\\checkin_data\\\\dataset_tsmc2014/'\n",
    "checkin_file = 'dataset_TSMC2014_NYC.txt'"
   ]
  },
  {
   "cell_type": "code",
   "execution_count": 2,
   "metadata": {},
   "outputs": [
    {
     "data": {
      "text/html": [
       "<div>\n",
       "<style scoped>\n",
       "    .dataframe tbody tr th:only-of-type {\n",
       "        vertical-align: middle;\n",
       "    }\n",
       "\n",
       "    .dataframe tbody tr th {\n",
       "        vertical-align: top;\n",
       "    }\n",
       "\n",
       "    .dataframe thead th {\n",
       "        text-align: right;\n",
       "    }\n",
       "</style>\n",
       "<table border=\"1\" class=\"dataframe\">\n",
       "  <thead>\n",
       "    <tr style=\"text-align: right;\">\n",
       "      <th></th>\n",
       "      <th>user_id</th>\n",
       "      <th>poi_id</th>\n",
       "      <th>poi_category_id</th>\n",
       "      <th>poi_category_name</th>\n",
       "      <th>latitude</th>\n",
       "      <th>longitude</th>\n",
       "      <th>time_offset</th>\n",
       "      <th>UTC_time</th>\n",
       "    </tr>\n",
       "  </thead>\n",
       "  <tbody>\n",
       "    <tr>\n",
       "      <th>0</th>\n",
       "      <td>470</td>\n",
       "      <td>49bbd6c0f964a520f4531fe3</td>\n",
       "      <td>4bf58dd8d48988d127951735</td>\n",
       "      <td>Arts &amp; Crafts Store</td>\n",
       "      <td>40.719810</td>\n",
       "      <td>-74.002581</td>\n",
       "      <td>-240</td>\n",
       "      <td>Tue Apr 03 18:00:09 +0000 2012</td>\n",
       "    </tr>\n",
       "    <tr>\n",
       "      <th>1</th>\n",
       "      <td>979</td>\n",
       "      <td>4a43c0aef964a520c6a61fe3</td>\n",
       "      <td>4bf58dd8d48988d1df941735</td>\n",
       "      <td>Bridge</td>\n",
       "      <td>40.606800</td>\n",
       "      <td>-74.044170</td>\n",
       "      <td>-240</td>\n",
       "      <td>Tue Apr 03 18:00:25 +0000 2012</td>\n",
       "    </tr>\n",
       "    <tr>\n",
       "      <th>2</th>\n",
       "      <td>69</td>\n",
       "      <td>4c5cc7b485a1e21e00d35711</td>\n",
       "      <td>4bf58dd8d48988d103941735</td>\n",
       "      <td>Home (private)</td>\n",
       "      <td>40.716162</td>\n",
       "      <td>-73.883070</td>\n",
       "      <td>-240</td>\n",
       "      <td>Tue Apr 03 18:02:24 +0000 2012</td>\n",
       "    </tr>\n",
       "    <tr>\n",
       "      <th>3</th>\n",
       "      <td>395</td>\n",
       "      <td>4bc7086715a7ef3bef9878da</td>\n",
       "      <td>4bf58dd8d48988d104941735</td>\n",
       "      <td>Medical Center</td>\n",
       "      <td>40.745164</td>\n",
       "      <td>-73.982519</td>\n",
       "      <td>-240</td>\n",
       "      <td>Tue Apr 03 18:02:41 +0000 2012</td>\n",
       "    </tr>\n",
       "    <tr>\n",
       "      <th>4</th>\n",
       "      <td>87</td>\n",
       "      <td>4cf2c5321d18a143951b5cec</td>\n",
       "      <td>4bf58dd8d48988d1cb941735</td>\n",
       "      <td>Food Truck</td>\n",
       "      <td>40.740104</td>\n",
       "      <td>-73.989658</td>\n",
       "      <td>-240</td>\n",
       "      <td>Tue Apr 03 18:03:00 +0000 2012</td>\n",
       "    </tr>\n",
       "  </tbody>\n",
       "</table>\n",
       "</div>"
      ],
      "text/plain": [
       "   user_id                    poi_id           poi_category_id  \\\n",
       "0      470  49bbd6c0f964a520f4531fe3  4bf58dd8d48988d127951735   \n",
       "1      979  4a43c0aef964a520c6a61fe3  4bf58dd8d48988d1df941735   \n",
       "2       69  4c5cc7b485a1e21e00d35711  4bf58dd8d48988d103941735   \n",
       "3      395  4bc7086715a7ef3bef9878da  4bf58dd8d48988d104941735   \n",
       "4       87  4cf2c5321d18a143951b5cec  4bf58dd8d48988d1cb941735   \n",
       "\n",
       "     poi_category_name   latitude  longitude  time_offset  \\\n",
       "0  Arts & Crafts Store  40.719810 -74.002581         -240   \n",
       "1               Bridge  40.606800 -74.044170         -240   \n",
       "2       Home (private)  40.716162 -73.883070         -240   \n",
       "3       Medical Center  40.745164 -73.982519         -240   \n",
       "4           Food Truck  40.740104 -73.989658         -240   \n",
       "\n",
       "                         UTC_time  \n",
       "0  Tue Apr 03 18:00:09 +0000 2012  \n",
       "1  Tue Apr 03 18:00:25 +0000 2012  \n",
       "2  Tue Apr 03 18:02:24 +0000 2012  \n",
       "3  Tue Apr 03 18:02:41 +0000 2012  \n",
       "4  Tue Apr 03 18:03:00 +0000 2012  "
      ]
     },
     "execution_count": 2,
     "metadata": {},
     "output_type": "execute_result"
    }
   ],
   "source": [
    "col = ['user_id',\n",
    "       'poi_id',\n",
    "       'poi_category_id',\n",
    "       'poi_category_name',\n",
    "       'latitude', \n",
    "       'longitude',\n",
    "       'time_offset',\n",
    "       'UTC_time']\n",
    "df = pd.read_csv(dir + checkin_file, delimiter = \"\\t\", names = col)\n",
    "df.head()"
   ]
  },
  {
   "cell_type": "code",
   "execution_count": 6,
   "metadata": {},
   "outputs": [
    {
     "name": "stdout",
     "output_type": "stream",
     "text": [
      "Amount of Users:  1083\n",
      "Amount of Items:  38333\n"
     ]
    }
   ],
   "source": [
    "# number of users and number of POIs\n",
    "print('Amount of Users: ', len(df['user_id'].unique()))\n",
    "print('Amount of Items: ', len(df['poi_id'].unique()))"
   ]
  },
  {
   "cell_type": "code",
   "execution_count": 8,
   "metadata": {},
   "outputs": [
    {
     "name": "stdout",
     "output_type": "stream",
     "text": [
      "users with < 5 interactoins are removed\n",
      "POIs with < 5 interactoins are removed\n",
      "num of users:1083, num of POIs:9989\n"
     ]
    }
   ],
   "source": [
    "# remove infrequent items and users\n",
    "from copy import deepcopy\n",
    "def rm_infrequent_items(data, min_counts):\n",
    "    df = deepcopy(data)\n",
    "    counts = df['poi_id'].value_counts()\n",
    "    df = df[df['poi_id'].isin(counts[counts >= min_counts].index)]\n",
    "    print(\"POIs with < {} interactoins are removed\".format(min_counts))\n",
    "    return df\n",
    "def rm_infrequent_users(data, min_counts):\n",
    "    df = deepcopy(data)\n",
    "    counts = df['user_id'].value_counts()\n",
    "    df = df[df[\"user_id\"].isin(counts[counts >= min_counts].index)]\n",
    "    print(\"users with < {} interactoins are removed\".format(min_counts))\n",
    "    return df\n",
    "          \n",
    "filtered_df = rm_infrequent_users(df, 5)\n",
    "filtered_df = rm_infrequent_items(filtered_df, 5)\n",
    "print('num of users:{}, num of POIs:{}'.format(len(filtered_df['user_id'].unique()), len(filtered_df['poi_id'].unique())))"
   ]
  },
  {
   "cell_type": "code",
   "execution_count": 14,
   "metadata": {},
   "outputs": [
    {
     "data": {
      "text/html": [
       "<div>\n",
       "<style scoped>\n",
       "    .dataframe tbody tr th:only-of-type {\n",
       "        vertical-align: middle;\n",
       "    }\n",
       "\n",
       "    .dataframe tbody tr th {\n",
       "        vertical-align: top;\n",
       "    }\n",
       "\n",
       "    .dataframe thead th {\n",
       "        text-align: right;\n",
       "    }\n",
       "</style>\n",
       "<table border=\"1\" class=\"dataframe\">\n",
       "  <thead>\n",
       "    <tr style=\"text-align: right;\">\n",
       "      <th></th>\n",
       "      <th>user_id</th>\n",
       "      <th>poi_category_id</th>\n",
       "      <th>poi_category_name</th>\n",
       "      <th>latitude</th>\n",
       "      <th>longitude</th>\n",
       "      <th>time_offset</th>\n",
       "      <th>UTC_time</th>\n",
       "      <th>poi_encode</th>\n",
       "    </tr>\n",
       "  </thead>\n",
       "  <tbody>\n",
       "    <tr>\n",
       "      <th>0</th>\n",
       "      <td>470</td>\n",
       "      <td>4bf58dd8d48988d127951735</td>\n",
       "      <td>Arts &amp; Crafts Store</td>\n",
       "      <td>40.719810</td>\n",
       "      <td>-74.002581</td>\n",
       "      <td>-240</td>\n",
       "      <td>Tue Apr 03 18:00:09 +0000 2012</td>\n",
       "      <td>1230</td>\n",
       "    </tr>\n",
       "    <tr>\n",
       "      <th>1</th>\n",
       "      <td>979</td>\n",
       "      <td>4bf58dd8d48988d1df941735</td>\n",
       "      <td>Bridge</td>\n",
       "      <td>40.606800</td>\n",
       "      <td>-74.044170</td>\n",
       "      <td>-240</td>\n",
       "      <td>Tue Apr 03 18:00:25 +0000 2012</td>\n",
       "      <td>1879</td>\n",
       "    </tr>\n",
       "    <tr>\n",
       "      <th>2</th>\n",
       "      <td>69</td>\n",
       "      <td>4bf58dd8d48988d103941735</td>\n",
       "      <td>Home (private)</td>\n",
       "      <td>40.716162</td>\n",
       "      <td>-73.883070</td>\n",
       "      <td>-240</td>\n",
       "      <td>Tue Apr 03 18:02:24 +0000 2012</td>\n",
       "      <td>6161</td>\n",
       "    </tr>\n",
       "    <tr>\n",
       "      <th>4</th>\n",
       "      <td>87</td>\n",
       "      <td>4bf58dd8d48988d1cb941735</td>\n",
       "      <td>Food Truck</td>\n",
       "      <td>40.740104</td>\n",
       "      <td>-73.989658</td>\n",
       "      <td>-240</td>\n",
       "      <td>Tue Apr 03 18:03:00 +0000 2012</td>\n",
       "      <td>6859</td>\n",
       "    </tr>\n",
       "    <tr>\n",
       "      <th>5</th>\n",
       "      <td>484</td>\n",
       "      <td>4bf58dd8d48988d118951735</td>\n",
       "      <td>Food &amp; Drink Shop</td>\n",
       "      <td>40.690427</td>\n",
       "      <td>-73.954687</td>\n",
       "      <td>-240</td>\n",
       "      <td>Tue Apr 03 18:04:00 +0000 2012</td>\n",
       "      <td>4017</td>\n",
       "    </tr>\n",
       "  </tbody>\n",
       "</table>\n",
       "</div>"
      ],
      "text/plain": [
       "   user_id           poi_category_id    poi_category_name   latitude  \\\n",
       "0      470  4bf58dd8d48988d127951735  Arts & Crafts Store  40.719810   \n",
       "1      979  4bf58dd8d48988d1df941735               Bridge  40.606800   \n",
       "2       69  4bf58dd8d48988d103941735       Home (private)  40.716162   \n",
       "4       87  4bf58dd8d48988d1cb941735           Food Truck  40.740104   \n",
       "5      484  4bf58dd8d48988d118951735    Food & Drink Shop  40.690427   \n",
       "\n",
       "   longitude  time_offset                        UTC_time  poi_encode  \n",
       "0 -74.002581         -240  Tue Apr 03 18:00:09 +0000 2012        1230  \n",
       "1 -74.044170         -240  Tue Apr 03 18:00:25 +0000 2012        1879  \n",
       "2 -73.883070         -240  Tue Apr 03 18:02:24 +0000 2012        6161  \n",
       "4 -73.989658         -240  Tue Apr 03 18:03:00 +0000 2012        6859  \n",
       "5 -73.954687         -240  Tue Apr 03 18:04:00 +0000 2012        4017  "
      ]
     },
     "execution_count": 14,
     "metadata": {},
     "output_type": "execute_result"
    }
   ],
   "source": [
    "# POIs encode, and generate encode mapping\n",
    "poi_cat = pd.Categorical(filtered_df['poi_id'])\n",
    "poi_encode = poi_cat.codes\n",
    "#generate poi mapping table\n",
    "poi_mapping = pd.DataFrame({\n",
    "    'poi_encode': poi_encode,\n",
    "    'poi_id': filtered_df['poi_id']\n",
    "    })\n",
    "#drop duplicate\n",
    "poi_mapping_output = poi_mapping.drop_duplicates()\n",
    "filtered_df['poi_encode'] = poi_encode\n",
    "filtered_df.drop(['poi_id'], axis = 1, inplace = True)\n",
    "filtered_df.head(5)"
   ]
  },
  {
   "cell_type": "code",
   "execution_count": 17,
   "metadata": {},
   "outputs": [],
   "source": [
    "# convert to sequential data per user\n",
    "def convert_data(data):\n",
    "    df = deepcopy(data)\n",
    "    df_ordered = df.sort_values(['UTC_time'], ascending=True)\n",
    "    data = df_ordered.groupby('user_id')['poi_encode'].apply(list)\n",
    "    unique_data = df_ordered.groupby('user_id')['poi_encode'].nunique()\n",
    "    # delete users whose items are less than 5\n",
    "    data = data[unique_data[unique_data >= 5].index]\n",
    "    print(data[:10])\n",
    "    print(len(data))\n",
    "    return data"
   ]
  },
  {
   "cell_type": "code",
   "execution_count": 18,
   "metadata": {},
   "outputs": [
    {
     "name": "stdout",
     "output_type": "stream",
     "text": [
      "user_id\n",
      "1     [9066, 405, 773, 678, 499, 3032, 1344, 9066, 1...\n",
      "2     [1928, 825, 6889, 8153, 5302, 2903, 3272, 7089...\n",
      "3     [727, 2033, 7513, 18, 817, 194, 4435, 6547, 26...\n",
      "4     [8077, 8077, 2505, 1422, 2237, 1180, 1912, 249...\n",
      "5     [3090, 2467, 3090, 2940, 9244, 9175, 3090, 246...\n",
      "6     [3871, 6362, 3574, 2858, 2652, 6104, 9603, 636...\n",
      "7     [2768, 8552, 5425, 6659, 8836, 8274, 6659, 807...\n",
      "8     [2946, 9009, 7217, 2946, 8188, 3152, 3152, 830...\n",
      "9     [6539, 863, 9110, 508, 2603, 982, 905, 1431, 2...\n",
      "10    [5863, 8100, 7953, 2034, 8076, 492, 8931, 66, ...\n",
      "Name: poi_encode, dtype: object\n",
      "1083\n"
     ]
    }
   ],
   "source": [
    "seq_data = convert_data(filtered_df)"
   ]
  },
  {
   "cell_type": "code",
   "execution_count": 19,
   "metadata": {},
   "outputs": [],
   "source": [
    "# sequential data to dict\n",
    "user_item_dict = seq_data.to_dict()\n",
    "\n",
    "data_records = []\n",
    "# generate data_record\n",
    "for user_id in user_item_dict:\n",
    "    data_records.append(user_item_dict[user_id])"
   ]
  },
  {
   "cell_type": "code",
   "execution_count": 20,
   "metadata": {},
   "outputs": [],
   "source": [
    "import pickle\n",
    "def save_obj(obj, name ):\n",
    "    with open(name + '.pkl', 'wb') as f:\n",
    "        pickle.dump(obj, f)"
   ]
  },
  {
   "cell_type": "code",
   "execution_count": 21,
   "metadata": {},
   "outputs": [],
   "source": [
    "save_obj(data_records, 'checkin_sequences')\n",
    "save_obj(poi_mapping_output, 'poi_mapping')"
   ]
  },
  {
   "cell_type": "code",
   "execution_count": null,
   "metadata": {},
   "outputs": [],
   "source": []
  }
 ],
 "metadata": {
  "kernelspec": {
   "display_name": "Python 3",
   "language": "python",
   "name": "python3"
  },
  "language_info": {
   "codemirror_mode": {
    "name": "ipython",
    "version": 3
   },
   "file_extension": ".py",
   "mimetype": "text/x-python",
   "name": "python",
   "nbconvert_exporter": "python",
   "pygments_lexer": "ipython3",
   "version": "3.7.10"
  }
 },
 "nbformat": 4,
 "nbformat_minor": 4
}
