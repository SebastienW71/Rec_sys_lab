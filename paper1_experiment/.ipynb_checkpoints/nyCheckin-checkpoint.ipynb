{
 "cells": [
  {
   "cell_type": "code",
   "execution_count": 1,
   "metadata": {},
   "outputs": [],
   "source": [
    "import pandas as pd\n",
    "import numpy as np\n",
    "\n",
    "dir = 'E:\\\\Sebnewrepo\\\\Data\\\\checkin_data\\\\dataset_tsmc2014/'\n",
    "checkin_file = 'dataset_TSMC2014_NYC.txt'"
   ]
  },
  {
   "cell_type": "code",
   "execution_count": 2,
   "metadata": {},
   "outputs": [
    {
     "data": {
      "text/html": [
       "<div>\n",
       "<style scoped>\n",
       "    .dataframe tbody tr th:only-of-type {\n",
       "        vertical-align: middle;\n",
       "    }\n",
       "\n",
       "    .dataframe tbody tr th {\n",
       "        vertical-align: top;\n",
       "    }\n",
       "\n",
       "    .dataframe thead th {\n",
       "        text-align: right;\n",
       "    }\n",
       "</style>\n",
       "<table border=\"1\" class=\"dataframe\">\n",
       "  <thead>\n",
       "    <tr style=\"text-align: right;\">\n",
       "      <th></th>\n",
       "      <th>user_id</th>\n",
       "      <th>poi_id</th>\n",
       "      <th>poi_category_id</th>\n",
       "      <th>poi_category_name</th>\n",
       "      <th>latitude</th>\n",
       "      <th>longitude</th>\n",
       "      <th>time_offset</th>\n",
       "      <th>UTC_time</th>\n",
       "    </tr>\n",
       "  </thead>\n",
       "  <tbody>\n",
       "    <tr>\n",
       "      <th>0</th>\n",
       "      <td>1541</td>\n",
       "      <td>4f0fd5a8e4b03856eeb6c8cb</td>\n",
       "      <td>4bf58dd8d48988d10c951735</td>\n",
       "      <td>Cosmetics Shop</td>\n",
       "      <td>35.705101</td>\n",
       "      <td>139.619590</td>\n",
       "      <td>540</td>\n",
       "      <td>Tue Apr 03 18:17:18 +0000 2012</td>\n",
       "    </tr>\n",
       "    <tr>\n",
       "      <th>1</th>\n",
       "      <td>868</td>\n",
       "      <td>4b7b884ff964a5207d662fe3</td>\n",
       "      <td>4bf58dd8d48988d1d1941735</td>\n",
       "      <td>Ramen /  Noodle House</td>\n",
       "      <td>35.715581</td>\n",
       "      <td>139.800317</td>\n",
       "      <td>540</td>\n",
       "      <td>Tue Apr 03 18:22:04 +0000 2012</td>\n",
       "    </tr>\n",
       "    <tr>\n",
       "      <th>2</th>\n",
       "      <td>114</td>\n",
       "      <td>4c16fdda96040f477cc473a5</td>\n",
       "      <td>4d954b0ea243a5684a65b473</td>\n",
       "      <td>Convenience Store</td>\n",
       "      <td>35.714542</td>\n",
       "      <td>139.480065</td>\n",
       "      <td>540</td>\n",
       "      <td>Tue Apr 03 19:12:07 +0000 2012</td>\n",
       "    </tr>\n",
       "    <tr>\n",
       "      <th>3</th>\n",
       "      <td>868</td>\n",
       "      <td>4c178638c2dfc928651ea869</td>\n",
       "      <td>4bf58dd8d48988d118951735</td>\n",
       "      <td>Food &amp; Drink Shop</td>\n",
       "      <td>35.725592</td>\n",
       "      <td>139.776633</td>\n",
       "      <td>540</td>\n",
       "      <td>Tue Apr 03 19:12:13 +0000 2012</td>\n",
       "    </tr>\n",
       "    <tr>\n",
       "      <th>4</th>\n",
       "      <td>1458</td>\n",
       "      <td>4f568309e4b071452e447afe</td>\n",
       "      <td>4f2a210c4b9023bd5841ed28</td>\n",
       "      <td>Housing Development</td>\n",
       "      <td>35.656083</td>\n",
       "      <td>139.734045</td>\n",
       "      <td>540</td>\n",
       "      <td>Tue Apr 03 19:18:23 +0000 2012</td>\n",
       "    </tr>\n",
       "  </tbody>\n",
       "</table>\n",
       "</div>"
      ],
      "text/plain": [
       "   user_id                    poi_id           poi_category_id  \\\n",
       "0     1541  4f0fd5a8e4b03856eeb6c8cb  4bf58dd8d48988d10c951735   \n",
       "1      868  4b7b884ff964a5207d662fe3  4bf58dd8d48988d1d1941735   \n",
       "2      114  4c16fdda96040f477cc473a5  4d954b0ea243a5684a65b473   \n",
       "3      868  4c178638c2dfc928651ea869  4bf58dd8d48988d118951735   \n",
       "4     1458  4f568309e4b071452e447afe  4f2a210c4b9023bd5841ed28   \n",
       "\n",
       "       poi_category_name   latitude   longitude  time_offset  \\\n",
       "0         Cosmetics Shop  35.705101  139.619590          540   \n",
       "1  Ramen /  Noodle House  35.715581  139.800317          540   \n",
       "2      Convenience Store  35.714542  139.480065          540   \n",
       "3      Food & Drink Shop  35.725592  139.776633          540   \n",
       "4    Housing Development  35.656083  139.734045          540   \n",
       "\n",
       "                         UTC_time  \n",
       "0  Tue Apr 03 18:17:18 +0000 2012  \n",
       "1  Tue Apr 03 18:22:04 +0000 2012  \n",
       "2  Tue Apr 03 19:12:07 +0000 2012  \n",
       "3  Tue Apr 03 19:12:13 +0000 2012  \n",
       "4  Tue Apr 03 19:18:23 +0000 2012  "
      ]
     },
     "execution_count": 2,
     "metadata": {},
     "output_type": "execute_result"
    }
   ],
   "source": [
    "col = ['user_id',\n",
    "       'poi_id',\n",
    "       'poi_category_id',\n",
    "       'poi_category_name',\n",
    "       'latitude', \n",
    "       'longitude',\n",
    "       'time_offset',\n",
    "       'UTC_time']\n",
    "df = pd.read_csv(dir + checkin_file, delimiter = \"\\t\", names = col)\n",
    "df.head()"
   ]
  },
  {
   "cell_type": "code",
   "execution_count": 3,
   "metadata": {},
   "outputs": [
    {
     "data": {
      "text/plain": [
       "(573703, 8)"
      ]
     },
     "execution_count": 3,
     "metadata": {},
     "output_type": "execute_result"
    }
   ],
   "source": [
    "df.shape"
   ]
  },
  {
   "cell_type": "code",
   "execution_count": 4,
   "metadata": {},
   "outputs": [
    {
     "name": "stdout",
     "output_type": "stream",
     "text": [
      "Amount of Users:  2293\n",
      "Amount of Items:  61858\n"
     ]
    }
   ],
   "source": [
    "# number of users and number of POIs\n",
    "print('Amount of Users: ', len(df['user_id'].unique()))\n",
    "print('Amount of Items: ', len(df['poi_id'].unique()))"
   ]
  },
  {
   "cell_type": "code",
   "execution_count": 5,
   "metadata": {},
   "outputs": [
    {
     "name": "stdout",
     "output_type": "stream",
     "text": [
      "users with < 5 interactoins are removed\n",
      "POIs with < 5 interactoins are removed\n",
      "num of users:2293, num of POIs:15177\n"
     ]
    }
   ],
   "source": [
    "# remove infrequent items and users\n",
    "from copy import deepcopy\n",
    "def rm_infrequent_items(data, min_counts):\n",
    "    df = deepcopy(data)\n",
    "    counts = df['poi_id'].value_counts()\n",
    "    df = df[df['poi_id'].isin(counts[counts >= min_counts].index)]\n",
    "    print(\"POIs with < {} interactoins are removed\".format(min_counts))\n",
    "    return df\n",
    "def rm_infrequent_users(data, min_counts):\n",
    "    df = deepcopy(data)\n",
    "    counts = df['user_id'].value_counts()\n",
    "    df = df[df[\"user_id\"].isin(counts[counts >= min_counts].index)]\n",
    "    print(\"users with < {} interactoins are removed\".format(min_counts))\n",
    "    return df\n",
    "          \n",
    "filtered_df = rm_infrequent_users(df, 5)\n",
    "filtered_df = rm_infrequent_items(filtered_df, 5)\n",
    "print('num of users:{}, num of POIs:{}'.format(len(filtered_df['user_id'].unique()), len(filtered_df['poi_id'].unique())))"
   ]
  },
  {
   "cell_type": "code",
   "execution_count": 6,
   "metadata": {},
   "outputs": [
    {
     "data": {
      "text/plain": [
       "(494807, 8)"
      ]
     },
     "execution_count": 6,
     "metadata": {},
     "output_type": "execute_result"
    }
   ],
   "source": [
    "filtered_df.shape"
   ]
  },
  {
   "cell_type": "code",
   "execution_count": 7,
   "metadata": {},
   "outputs": [
    {
     "data": {
      "text/html": [
       "<div>\n",
       "<style scoped>\n",
       "    .dataframe tbody tr th:only-of-type {\n",
       "        vertical-align: middle;\n",
       "    }\n",
       "\n",
       "    .dataframe tbody tr th {\n",
       "        vertical-align: top;\n",
       "    }\n",
       "\n",
       "    .dataframe thead th {\n",
       "        text-align: right;\n",
       "    }\n",
       "</style>\n",
       "<table border=\"1\" class=\"dataframe\">\n",
       "  <thead>\n",
       "    <tr style=\"text-align: right;\">\n",
       "      <th></th>\n",
       "      <th>user_id</th>\n",
       "      <th>poi_id</th>\n",
       "      <th>poi_category_id</th>\n",
       "      <th>poi_category_name</th>\n",
       "      <th>latitude</th>\n",
       "      <th>longitude</th>\n",
       "      <th>time_offset</th>\n",
       "      <th>UTC_time</th>\n",
       "      <th>datetime</th>\n",
       "    </tr>\n",
       "  </thead>\n",
       "  <tbody>\n",
       "    <tr>\n",
       "      <th>0</th>\n",
       "      <td>1541</td>\n",
       "      <td>4f0fd5a8e4b03856eeb6c8cb</td>\n",
       "      <td>4bf58dd8d48988d10c951735</td>\n",
       "      <td>Cosmetics Shop</td>\n",
       "      <td>35.705101</td>\n",
       "      <td>139.619590</td>\n",
       "      <td>540</td>\n",
       "      <td>Tue Apr 03 18:17:18 +0000 2012</td>\n",
       "      <td>2012-04-03 18:17:18</td>\n",
       "    </tr>\n",
       "    <tr>\n",
       "      <th>1</th>\n",
       "      <td>868</td>\n",
       "      <td>4b7b884ff964a5207d662fe3</td>\n",
       "      <td>4bf58dd8d48988d1d1941735</td>\n",
       "      <td>Ramen /  Noodle House</td>\n",
       "      <td>35.715581</td>\n",
       "      <td>139.800317</td>\n",
       "      <td>540</td>\n",
       "      <td>Tue Apr 03 18:22:04 +0000 2012</td>\n",
       "      <td>2012-04-03 18:22:04</td>\n",
       "    </tr>\n",
       "    <tr>\n",
       "      <th>2</th>\n",
       "      <td>114</td>\n",
       "      <td>4c16fdda96040f477cc473a5</td>\n",
       "      <td>4d954b0ea243a5684a65b473</td>\n",
       "      <td>Convenience Store</td>\n",
       "      <td>35.714542</td>\n",
       "      <td>139.480065</td>\n",
       "      <td>540</td>\n",
       "      <td>Tue Apr 03 19:12:07 +0000 2012</td>\n",
       "      <td>2012-04-03 19:12:07</td>\n",
       "    </tr>\n",
       "    <tr>\n",
       "      <th>3</th>\n",
       "      <td>868</td>\n",
       "      <td>4c178638c2dfc928651ea869</td>\n",
       "      <td>4bf58dd8d48988d118951735</td>\n",
       "      <td>Food &amp; Drink Shop</td>\n",
       "      <td>35.725592</td>\n",
       "      <td>139.776633</td>\n",
       "      <td>540</td>\n",
       "      <td>Tue Apr 03 19:12:13 +0000 2012</td>\n",
       "      <td>2012-04-03 19:12:13</td>\n",
       "    </tr>\n",
       "    <tr>\n",
       "      <th>7</th>\n",
       "      <td>114</td>\n",
       "      <td>4b3eae5cf964a520b4a025e3</td>\n",
       "      <td>4bf58dd8d48988d129951735</td>\n",
       "      <td>Train Station</td>\n",
       "      <td>35.700253</td>\n",
       "      <td>139.480255</td>\n",
       "      <td>540</td>\n",
       "      <td>Tue Apr 03 19:35:36 +0000 2012</td>\n",
       "      <td>2012-04-03 19:35:36</td>\n",
       "    </tr>\n",
       "  </tbody>\n",
       "</table>\n",
       "</div>"
      ],
      "text/plain": [
       "   user_id                    poi_id           poi_category_id  \\\n",
       "0     1541  4f0fd5a8e4b03856eeb6c8cb  4bf58dd8d48988d10c951735   \n",
       "1      868  4b7b884ff964a5207d662fe3  4bf58dd8d48988d1d1941735   \n",
       "2      114  4c16fdda96040f477cc473a5  4d954b0ea243a5684a65b473   \n",
       "3      868  4c178638c2dfc928651ea869  4bf58dd8d48988d118951735   \n",
       "7      114  4b3eae5cf964a520b4a025e3  4bf58dd8d48988d129951735   \n",
       "\n",
       "       poi_category_name   latitude   longitude  time_offset  \\\n",
       "0         Cosmetics Shop  35.705101  139.619590          540   \n",
       "1  Ramen /  Noodle House  35.715581  139.800317          540   \n",
       "2      Convenience Store  35.714542  139.480065          540   \n",
       "3      Food & Drink Shop  35.725592  139.776633          540   \n",
       "7          Train Station  35.700253  139.480255          540   \n",
       "\n",
       "                         UTC_time            datetime  \n",
       "0  Tue Apr 03 18:17:18 +0000 2012 2012-04-03 18:17:18  \n",
       "1  Tue Apr 03 18:22:04 +0000 2012 2012-04-03 18:22:04  \n",
       "2  Tue Apr 03 19:12:07 +0000 2012 2012-04-03 19:12:07  \n",
       "3  Tue Apr 03 19:12:13 +0000 2012 2012-04-03 19:12:13  \n",
       "7  Tue Apr 03 19:35:36 +0000 2012 2012-04-03 19:35:36  "
      ]
     },
     "execution_count": 7,
     "metadata": {},
     "output_type": "execute_result"
    }
   ],
   "source": [
    "# deal with UTC_time column coz that is the string\n",
    "\n",
    "from datetime import datetime\n",
    "from datetime import timedelta\n",
    "def convert_to_datetime(data):\n",
    "    result = data.split(' ')[1] + ' ' + data.split(' ')[2] + ' '  + data.split(' ')[3] + ' '  + data.split(' ')[5]\n",
    "    dtm_str = datetime.strptime(result, '%b %d %H:%M:%S %Y')\n",
    "    return dtm_str\n",
    "\n",
    "filtered_df['datetime'] = filtered_df['UTC_time'].apply(convert_to_datetime)\n",
    "filtered_df.head()"
   ]
  },
  {
   "cell_type": "code",
   "execution_count": 8,
   "metadata": {},
   "outputs": [],
   "source": [
    "# convert to sequential data per user\n",
    "df_ordered = filtered_df.groupby('user_id').apply(pd.DataFrame.sort_values, 'datetime')\n",
    "df_ordered = df_ordered.reset_index(drop = True)\n"
   ]
  },
  {
   "cell_type": "code",
   "execution_count": 9,
   "metadata": {},
   "outputs": [],
   "source": [
    "# extract data\n",
    "df_ordered.to_csv('ny_ordered.csv', index = False)"
   ]
  },
  {
   "cell_type": "code",
   "execution_count": null,
   "metadata": {},
   "outputs": [],
   "source": []
  }
 ],
 "metadata": {
  "kernelspec": {
   "display_name": "Python 3",
   "language": "python",
   "name": "python3"
  },
  "language_info": {
   "codemirror_mode": {
    "name": "ipython",
    "version": 3
   },
   "file_extension": ".py",
   "mimetype": "text/x-python",
   "name": "python",
   "nbconvert_exporter": "python",
   "pygments_lexer": "ipython3",
   "version": "3.7.10"
  }
 },
 "nbformat": 4,
 "nbformat_minor": 4
}
