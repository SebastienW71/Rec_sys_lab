{
 "cells": [
  {
   "cell_type": "markdown",
   "metadata": {},
   "source": [
    "## Location Authority\n",
    "\n",
    "This section is to calculate location authority by SALSA Algorithm"
   ]
  },
  {
   "cell_type": "code",
   "execution_count": 3,
   "metadata": {},
   "outputs": [],
   "source": [
    "import pandas as pd\n",
    "import numpy as np\n",
    "\n",
    "dir = 'E:\\\\Sebnewrepo\\\\Data\\\\checkin_data\\\\dataset_tsmc2014/'\n",
    "checkin_file = 'dataset_TSMC2014_NYC.txt'"
   ]
  },
  {
   "cell_type": "code",
   "execution_count": 4,
   "metadata": {},
   "outputs": [
    {
     "data": {
      "text/html": [
       "<div>\n",
       "<style scoped>\n",
       "    .dataframe tbody tr th:only-of-type {\n",
       "        vertical-align: middle;\n",
       "    }\n",
       "\n",
       "    .dataframe tbody tr th {\n",
       "        vertical-align: top;\n",
       "    }\n",
       "\n",
       "    .dataframe thead th {\n",
       "        text-align: right;\n",
       "    }\n",
       "</style>\n",
       "<table border=\"1\" class=\"dataframe\">\n",
       "  <thead>\n",
       "    <tr style=\"text-align: right;\">\n",
       "      <th></th>\n",
       "      <th>user_id</th>\n",
       "      <th>poi_id</th>\n",
       "    </tr>\n",
       "  </thead>\n",
       "  <tbody>\n",
       "    <tr>\n",
       "      <th>0</th>\n",
       "      <td>470</td>\n",
       "      <td>49bbd6c0f964a520f4531fe3</td>\n",
       "    </tr>\n",
       "    <tr>\n",
       "      <th>1</th>\n",
       "      <td>979</td>\n",
       "      <td>4a43c0aef964a520c6a61fe3</td>\n",
       "    </tr>\n",
       "    <tr>\n",
       "      <th>2</th>\n",
       "      <td>69</td>\n",
       "      <td>4c5cc7b485a1e21e00d35711</td>\n",
       "    </tr>\n",
       "    <tr>\n",
       "      <th>3</th>\n",
       "      <td>395</td>\n",
       "      <td>4bc7086715a7ef3bef9878da</td>\n",
       "    </tr>\n",
       "    <tr>\n",
       "      <th>4</th>\n",
       "      <td>87</td>\n",
       "      <td>4cf2c5321d18a143951b5cec</td>\n",
       "    </tr>\n",
       "  </tbody>\n",
       "</table>\n",
       "</div>"
      ],
      "text/plain": [
       "   user_id                    poi_id\n",
       "0      470  49bbd6c0f964a520f4531fe3\n",
       "1      979  4a43c0aef964a520c6a61fe3\n",
       "2       69  4c5cc7b485a1e21e00d35711\n",
       "3      395  4bc7086715a7ef3bef9878da\n",
       "4       87  4cf2c5321d18a143951b5cec"
      ]
     },
     "execution_count": 4,
     "metadata": {},
     "output_type": "execute_result"
    }
   ],
   "source": [
    "col = ['user_id',\n",
    "       'poi_id',\n",
    "       'poi_category_id',\n",
    "       'poi_category_name',\n",
    "       'latitude', \n",
    "       'longitude',\n",
    "       'time_offset',\n",
    "       'UTC_time']\n",
    "df = pd.read_csv(dir + checkin_file, delimiter = \"\\t\", names = col)\n",
    "df = df[['user_id','poi_id']]\n",
    "df.head()"
   ]
  },
  {
   "cell_type": "code",
   "execution_count": 5,
   "metadata": {},
   "outputs": [
    {
     "name": "stdout",
     "output_type": "stream",
     "text": [
      "users with < 5 interactoins are removed\n",
      "POIs with < 5 interactoins are removed\n",
      "num of users:1083, num of POIs:9989\n"
     ]
    }
   ],
   "source": [
    "# remove infrequent items and users\n",
    "from copy import deepcopy\n",
    "def rm_infrequent_items(data, min_counts):\n",
    "    df = deepcopy(data)\n",
    "    counts = df['poi_id'].value_counts()\n",
    "    df = df[df['poi_id'].isin(counts[counts >= min_counts].index)]\n",
    "    print(\"POIs with < {} interactoins are removed\".format(min_counts))\n",
    "    return df\n",
    "def rm_infrequent_users(data, min_counts):\n",
    "    df = deepcopy(data)\n",
    "    counts = df['user_id'].value_counts()\n",
    "    df = df[df[\"user_id\"].isin(counts[counts >= min_counts].index)]\n",
    "    print(\"users with < {} interactoins are removed\".format(min_counts))\n",
    "    return df\n",
    "          \n",
    "df = rm_infrequent_users(df, 5)\n",
    "df = rm_infrequent_items(df, 5)\n",
    "print('num of users:{}, num of POIs:{}'.format(len(df['user_id'].unique()), len(df['poi_id'].unique())))"
   ]
  },
  {
   "cell_type": "code",
   "execution_count": 6,
   "metadata": {},
   "outputs": [
    {
     "data": {
      "text/html": [
       "<div>\n",
       "<style scoped>\n",
       "    .dataframe tbody tr th:only-of-type {\n",
       "        vertical-align: middle;\n",
       "    }\n",
       "\n",
       "    .dataframe tbody tr th {\n",
       "        vertical-align: top;\n",
       "    }\n",
       "\n",
       "    .dataframe thead th {\n",
       "        text-align: right;\n",
       "    }\n",
       "</style>\n",
       "<table border=\"1\" class=\"dataframe\">\n",
       "  <thead>\n",
       "    <tr style=\"text-align: right;\">\n",
       "      <th></th>\n",
       "      <th>user_id</th>\n",
       "      <th>poi_encode</th>\n",
       "    </tr>\n",
       "  </thead>\n",
       "  <tbody>\n",
       "    <tr>\n",
       "      <th>0</th>\n",
       "      <td>470</td>\n",
       "      <td>1230</td>\n",
       "    </tr>\n",
       "    <tr>\n",
       "      <th>1</th>\n",
       "      <td>979</td>\n",
       "      <td>1879</td>\n",
       "    </tr>\n",
       "    <tr>\n",
       "      <th>2</th>\n",
       "      <td>69</td>\n",
       "      <td>6161</td>\n",
       "    </tr>\n",
       "    <tr>\n",
       "      <th>4</th>\n",
       "      <td>87</td>\n",
       "      <td>6859</td>\n",
       "    </tr>\n",
       "    <tr>\n",
       "      <th>5</th>\n",
       "      <td>484</td>\n",
       "      <td>4017</td>\n",
       "    </tr>\n",
       "  </tbody>\n",
       "</table>\n",
       "</div>"
      ],
      "text/plain": [
       "   user_id  poi_encode\n",
       "0      470        1230\n",
       "1      979        1879\n",
       "2       69        6161\n",
       "4       87        6859\n",
       "5      484        4017"
      ]
     },
     "execution_count": 6,
     "metadata": {},
     "output_type": "execute_result"
    }
   ],
   "source": [
    "# POIs encode, and generate encode mapping\n",
    "poi_cat = pd.Categorical(df['poi_id'])\n",
    "poi_encode = poi_cat.codes\n",
    "#generate poi mapping table\n",
    "poi_mapping = pd.DataFrame({\n",
    "    'poi_encode': poi_encode,\n",
    "    'poi_id': df['poi_id']\n",
    "    })\n",
    "#drop duplicate\n",
    "poi_mapping_output = poi_mapping.drop_duplicates()\n",
    "df['poi_encode'] = poi_encode\n",
    "df.drop(['poi_id'], axis = 1, inplace = True)\n",
    "df.head(5)"
   ]
  },
  {
   "cell_type": "code",
   "execution_count": 7,
   "metadata": {},
   "outputs": [
    {
     "data": {
      "text/plain": [
       "9989"
      ]
     },
     "execution_count": 7,
     "metadata": {},
     "output_type": "execute_result"
    }
   ],
   "source": [
    "df.poi_encode.nunique()"
   ]
  },
  {
   "cell_type": "code",
   "execution_count": 8,
   "metadata": {},
   "outputs": [
    {
     "data": {
      "text/html": [
       "<div>\n",
       "<style scoped>\n",
       "    .dataframe tbody tr th:only-of-type {\n",
       "        vertical-align: middle;\n",
       "    }\n",
       "\n",
       "    .dataframe tbody tr th {\n",
       "        vertical-align: top;\n",
       "    }\n",
       "\n",
       "    .dataframe thead th {\n",
       "        text-align: right;\n",
       "    }\n",
       "</style>\n",
       "<table border=\"1\" class=\"dataframe\">\n",
       "  <thead>\n",
       "    <tr style=\"text-align: right;\">\n",
       "      <th></th>\n",
       "      <th>user_id</th>\n",
       "      <th>poi_encode</th>\n",
       "    </tr>\n",
       "  </thead>\n",
       "  <tbody>\n",
       "    <tr>\n",
       "      <th>25842</th>\n",
       "      <td>746</td>\n",
       "      <td>0</td>\n",
       "    </tr>\n",
       "    <tr>\n",
       "      <th>49239</th>\n",
       "      <td>421</td>\n",
       "      <td>0</td>\n",
       "    </tr>\n",
       "    <tr>\n",
       "      <th>49340</th>\n",
       "      <td>417</td>\n",
       "      <td>0</td>\n",
       "    </tr>\n",
       "    <tr>\n",
       "      <th>62387</th>\n",
       "      <td>665</td>\n",
       "      <td>0</td>\n",
       "    </tr>\n",
       "    <tr>\n",
       "      <th>99727</th>\n",
       "      <td>908</td>\n",
       "      <td>0</td>\n",
       "    </tr>\n",
       "    <tr>\n",
       "      <th>136952</th>\n",
       "      <td>903</td>\n",
       "      <td>0</td>\n",
       "    </tr>\n",
       "    <tr>\n",
       "      <th>167351</th>\n",
       "      <td>268</td>\n",
       "      <td>0</td>\n",
       "    </tr>\n",
       "    <tr>\n",
       "      <th>168246</th>\n",
       "      <td>700</td>\n",
       "      <td>0</td>\n",
       "    </tr>\n",
       "    <tr>\n",
       "      <th>182171</th>\n",
       "      <td>260</td>\n",
       "      <td>0</td>\n",
       "    </tr>\n",
       "    <tr>\n",
       "      <th>186461</th>\n",
       "      <td>674</td>\n",
       "      <td>0</td>\n",
       "    </tr>\n",
       "    <tr>\n",
       "      <th>186782</th>\n",
       "      <td>1067</td>\n",
       "      <td>0</td>\n",
       "    </tr>\n",
       "    <tr>\n",
       "      <th>196139</th>\n",
       "      <td>865</td>\n",
       "      <td>0</td>\n",
       "    </tr>\n",
       "    <tr>\n",
       "      <th>207744</th>\n",
       "      <td>523</td>\n",
       "      <td>0</td>\n",
       "    </tr>\n",
       "    <tr>\n",
       "      <th>211446</th>\n",
       "      <td>748</td>\n",
       "      <td>0</td>\n",
       "    </tr>\n",
       "    <tr>\n",
       "      <th>211465</th>\n",
       "      <td>945</td>\n",
       "      <td>0</td>\n",
       "    </tr>\n",
       "    <tr>\n",
       "      <th>227423</th>\n",
       "      <td>688</td>\n",
       "      <td>0</td>\n",
       "    </tr>\n",
       "  </tbody>\n",
       "</table>\n",
       "</div>"
      ],
      "text/plain": [
       "        user_id  poi_encode\n",
       "25842       746           0\n",
       "49239       421           0\n",
       "49340       417           0\n",
       "62387       665           0\n",
       "99727       908           0\n",
       "136952      903           0\n",
       "167351      268           0\n",
       "168246      700           0\n",
       "182171      260           0\n",
       "186461      674           0\n",
       "186782     1067           0\n",
       "196139      865           0\n",
       "207744      523           0\n",
       "211446      748           0\n",
       "211465      945           0\n",
       "227423      688           0"
      ]
     },
     "execution_count": 8,
     "metadata": {},
     "output_type": "execute_result"
    }
   ],
   "source": [
    "df[df.poi_encode == 0]"
   ]
  },
  {
   "cell_type": "code",
   "execution_count": 9,
   "metadata": {},
   "outputs": [
    {
     "data": {
      "text/html": [
       "<div>\n",
       "<style scoped>\n",
       "    .dataframe tbody tr th:only-of-type {\n",
       "        vertical-align: middle;\n",
       "    }\n",
       "\n",
       "    .dataframe tbody tr th {\n",
       "        vertical-align: top;\n",
       "    }\n",
       "\n",
       "    .dataframe thead th {\n",
       "        text-align: right;\n",
       "    }\n",
       "</style>\n",
       "<table border=\"1\" class=\"dataframe\">\n",
       "  <thead>\n",
       "    <tr style=\"text-align: right;\">\n",
       "      <th></th>\n",
       "      <th>poi_encode</th>\n",
       "      <th>poi_id</th>\n",
       "    </tr>\n",
       "  </thead>\n",
       "  <tbody>\n",
       "    <tr>\n",
       "      <th>0</th>\n",
       "      <td>1230</td>\n",
       "      <td>49bbd6c0f964a520f4531fe3</td>\n",
       "    </tr>\n",
       "    <tr>\n",
       "      <th>1</th>\n",
       "      <td>1879</td>\n",
       "      <td>4a43c0aef964a520c6a61fe3</td>\n",
       "    </tr>\n",
       "    <tr>\n",
       "      <th>2</th>\n",
       "      <td>6161</td>\n",
       "      <td>4c5cc7b485a1e21e00d35711</td>\n",
       "    </tr>\n",
       "    <tr>\n",
       "      <th>4</th>\n",
       "      <td>6859</td>\n",
       "      <td>4cf2c5321d18a143951b5cec</td>\n",
       "    </tr>\n",
       "    <tr>\n",
       "      <th>5</th>\n",
       "      <td>4017</td>\n",
       "      <td>4b5b981bf964a520900929e3</td>\n",
       "    </tr>\n",
       "  </tbody>\n",
       "</table>\n",
       "</div>"
      ],
      "text/plain": [
       "   poi_encode                    poi_id\n",
       "0        1230  49bbd6c0f964a520f4531fe3\n",
       "1        1879  4a43c0aef964a520c6a61fe3\n",
       "2        6161  4c5cc7b485a1e21e00d35711\n",
       "4        6859  4cf2c5321d18a143951b5cec\n",
       "5        4017  4b5b981bf964a520900929e3"
      ]
     },
     "execution_count": 9,
     "metadata": {},
     "output_type": "execute_result"
    }
   ],
   "source": [
    "poi_mapping_output.head()"
   ]
  },
  {
   "cell_type": "code",
   "execution_count": 10,
   "metadata": {},
   "outputs": [
    {
     "data": {
      "text/html": [
       "<div>\n",
       "<style scoped>\n",
       "    .dataframe tbody tr th:only-of-type {\n",
       "        vertical-align: middle;\n",
       "    }\n",
       "\n",
       "    .dataframe tbody tr th {\n",
       "        vertical-align: top;\n",
       "    }\n",
       "\n",
       "    .dataframe thead th {\n",
       "        text-align: right;\n",
       "    }\n",
       "</style>\n",
       "<table border=\"1\" class=\"dataframe\">\n",
       "  <thead>\n",
       "    <tr style=\"text-align: right;\">\n",
       "      <th></th>\n",
       "      <th>user_id</th>\n",
       "      <th>poi_encode</th>\n",
       "    </tr>\n",
       "  </thead>\n",
       "  <tbody>\n",
       "    <tr>\n",
       "      <th>0</th>\n",
       "      <td>1</td>\n",
       "      <td>0</td>\n",
       "    </tr>\n",
       "    <tr>\n",
       "      <th>1</th>\n",
       "      <td>1</td>\n",
       "      <td>1</td>\n",
       "    </tr>\n",
       "    <tr>\n",
       "      <th>2</th>\n",
       "      <td>1</td>\n",
       "      <td>2</td>\n",
       "    </tr>\n",
       "    <tr>\n",
       "      <th>3</th>\n",
       "      <td>2</td>\n",
       "      <td>0</td>\n",
       "    </tr>\n",
       "    <tr>\n",
       "      <th>4</th>\n",
       "      <td>2</td>\n",
       "      <td>4</td>\n",
       "    </tr>\n",
       "    <tr>\n",
       "      <th>5</th>\n",
       "      <td>3</td>\n",
       "      <td>3</td>\n",
       "    </tr>\n",
       "    <tr>\n",
       "      <th>6</th>\n",
       "      <td>3</td>\n",
       "      <td>2</td>\n",
       "    </tr>\n",
       "    <tr>\n",
       "      <th>7</th>\n",
       "      <td>3</td>\n",
       "      <td>2</td>\n",
       "    </tr>\n",
       "    <tr>\n",
       "      <th>8</th>\n",
       "      <td>4</td>\n",
       "      <td>1</td>\n",
       "    </tr>\n",
       "    <tr>\n",
       "      <th>9</th>\n",
       "      <td>5</td>\n",
       "      <td>0</td>\n",
       "    </tr>\n",
       "    <tr>\n",
       "      <th>10</th>\n",
       "      <td>6</td>\n",
       "      <td>4</td>\n",
       "    </tr>\n",
       "    <tr>\n",
       "      <th>11</th>\n",
       "      <td>6</td>\n",
       "      <td>3</td>\n",
       "    </tr>\n",
       "    <tr>\n",
       "      <th>12</th>\n",
       "      <td>7</td>\n",
       "      <td>3</td>\n",
       "    </tr>\n",
       "    <tr>\n",
       "      <th>13</th>\n",
       "      <td>7</td>\n",
       "      <td>1</td>\n",
       "    </tr>\n",
       "  </tbody>\n",
       "</table>\n",
       "</div>"
      ],
      "text/plain": [
       "    user_id  poi_encode\n",
       "0         1           0\n",
       "1         1           1\n",
       "2         1           2\n",
       "3         2           0\n",
       "4         2           4\n",
       "5         3           3\n",
       "6         3           2\n",
       "7         3           2\n",
       "8         4           1\n",
       "9         5           0\n",
       "10        6           4\n",
       "11        6           3\n",
       "12        7           3\n",
       "13        7           1"
      ]
     },
     "execution_count": 10,
     "metadata": {},
     "output_type": "execute_result"
    }
   ],
   "source": [
    "# try a test dataset:\n",
    "test = pd.DataFrame({\n",
    "    'user_id': [1,1,1,2,2,3,3,3,4,5,6,6,7,7],\n",
    "    'poi_encode': [0,1,2,0,4,3,2,2,1,0,4,3,3,1]\n",
    "})\n",
    "test"
   ]
  },
  {
   "cell_type": "markdown",
   "metadata": {},
   "source": [
    "#### 0. Create user-location adjacent matrix"
   ]
  },
  {
   "cell_type": "code",
   "execution_count": 199,
   "metadata": {},
   "outputs": [],
   "source": [
    "# Adjacent matrix\n",
    "def adjacent_mat(df):\n",
    "    mat_row = df['user_id'].nunique()\n",
    "    mat_col = df['poi_encode'].nunique()\n",
    "    adj_mat = np.zeros((mat_row, mat_col))\n",
    "    for index, row in df.iterrows():\n",
    "        #print(row['user_id'])\n",
    "        adj_mat[row['user_id'] - 1][row['poi_encode']] += 1\n",
    "    return adj_mat"
   ]
  },
  {
   "cell_type": "code",
   "execution_count": 212,
   "metadata": {},
   "outputs": [
    {
     "data": {
      "text/plain": [
       "array([[0., 0., 0., ..., 0., 0., 0.],\n",
       "       [0., 0., 0., ..., 0., 0., 0.],\n",
       "       [0., 0., 0., ..., 0., 0., 0.],\n",
       "       ...,\n",
       "       [0., 0., 0., ..., 0., 0., 1.],\n",
       "       [0., 0., 0., ..., 0., 0., 0.],\n",
       "       [0., 0., 0., ..., 0., 1., 0.]])"
      ]
     },
     "execution_count": 212,
     "metadata": {},
     "output_type": "execute_result"
    }
   ],
   "source": [
    "adj_mat = adjacent_mat(df)\n",
    "\n",
    "adj_mat"
   ]
  },
  {
   "cell_type": "markdown",
   "metadata": {},
   "source": [
    "#### 1. Create user_location transition prob matrix G_ul \n"
   ]
  },
  {
   "cell_type": "code",
   "execution_count": 213,
   "metadata": {},
   "outputs": [
    {
     "data": {
      "text/plain": [
       "array([16., 17.,  5., ..., 24., 13.,  9.])"
      ]
     },
     "execution_count": 213,
     "metadata": {},
     "output_type": "execute_result"
    }
   ],
   "source": [
    "# array of total check-in number of each location\n",
    "num_loc = adj_mat.sum(axis = 0, dtype = 'float')\n",
    "num_loc"
   ]
  },
  {
   "cell_type": "code",
   "execution_count": 214,
   "metadata": {},
   "outputs": [
    {
     "data": {
      "text/plain": [
       "array([[0.        , 0.        , 0.        , ..., 0.        , 0.        ,\n",
       "        0.        ],\n",
       "       [0.        , 0.        , 0.        , ..., 0.        , 0.        ,\n",
       "        0.        ],\n",
       "       [0.        , 0.        , 0.        , ..., 0.        , 0.        ,\n",
       "        0.        ],\n",
       "       ...,\n",
       "       [0.        , 0.        , 0.        , ..., 0.        , 0.        ,\n",
       "        0.11111111],\n",
       "       [0.        , 0.        , 0.        , ..., 0.        , 0.        ,\n",
       "        0.        ],\n",
       "       [0.        , 0.        , 0.        , ..., 0.        , 0.07692308,\n",
       "        0.        ]])"
      ]
     },
     "execution_count": 214,
     "metadata": {},
     "output_type": "execute_result"
    }
   ],
   "source": [
    "G_ul = adj_mat / num_loc\n",
    "G_ul"
   ]
  },
  {
   "cell_type": "code",
   "execution_count": 215,
   "metadata": {},
   "outputs": [
    {
     "data": {
      "text/plain": [
       "array([[1.73348280e-05, 1.73348280e-05, 1.73348280e-05, ...,\n",
       "        1.73348280e-05, 1.73348280e-05, 1.73348280e-05],\n",
       "       [1.73348280e-05, 1.73348280e-05, 1.73348280e-05, ...,\n",
       "        1.73348280e-05, 1.73348280e-05, 1.73348280e-05],\n",
       "       [1.73348280e-05, 1.73348280e-05, 1.73348280e-05, ...,\n",
       "        1.73348280e-05, 1.73348280e-05, 1.73348280e-05],\n",
       "       ...,\n",
       "       [1.73348280e-05, 1.73348280e-05, 1.73348280e-05, ...,\n",
       "        1.73348280e-05, 1.73348280e-05, 1.09042488e-01],\n",
       "       [1.73348280e-05, 1.73348280e-05, 1.73348280e-05, ...,\n",
       "        1.73348280e-05, 1.73348280e-05, 1.73348280e-05],\n",
       "       [1.73348280e-05, 1.73348280e-05, 1.73348280e-05, ...,\n",
       "        1.73348280e-05, 7.54962872e-02, 1.73348280e-05]])"
      ]
     },
     "execution_count": 215,
     "metadata": {},
     "output_type": "execute_result"
    }
   ],
   "source": [
    "# G_ul with random walk prob\n",
    "e = 0.85\n",
    "M = adj_mat.shape[1]\n",
    "G_ul_random = e * G_ul + (1-e) * 1/M\n",
    "# column normalize\n",
    "G_ul_random_normalized = G_ul_random / G_ul_random.sum(axis = 0, dtype = 'float')\n",
    "G_ul_random_normalized"
   ]
  },
  {
   "cell_type": "markdown",
   "metadata": {},
   "source": [
    "#### 2. Create Location_user transition prob matrix G_lu"
   ]
  },
  {
   "cell_type": "code",
   "execution_count": 216,
   "metadata": {},
   "outputs": [],
   "source": [
    "base = adj_mat.T"
   ]
  },
  {
   "cell_type": "code",
   "execution_count": 217,
   "metadata": {},
   "outputs": [
    {
     "data": {
      "text/plain": [
       "array([ 70., 100.,  85., ...,  77., 231., 240.])"
      ]
     },
     "execution_count": 217,
     "metadata": {},
     "output_type": "execute_result"
    }
   ],
   "source": [
    "# array of total check-in number of each user\n",
    "num_user = base.sum(axis = 0, dtype = 'float')\n",
    "num_user"
   ]
  },
  {
   "cell_type": "code",
   "execution_count": 218,
   "metadata": {},
   "outputs": [
    {
     "data": {
      "text/plain": [
       "array([[0.        , 0.        , 0.        , ..., 0.        , 0.        ,\n",
       "        0.        ],\n",
       "       [0.        , 0.        , 0.        , ..., 0.        , 0.        ,\n",
       "        0.        ],\n",
       "       [0.        , 0.        , 0.        , ..., 0.        , 0.        ,\n",
       "        0.        ],\n",
       "       ...,\n",
       "       [0.        , 0.        , 0.        , ..., 0.        , 0.        ,\n",
       "        0.        ],\n",
       "       [0.        , 0.        , 0.        , ..., 0.        , 0.        ,\n",
       "        0.00416667],\n",
       "       [0.        , 0.        , 0.        , ..., 0.01298701, 0.        ,\n",
       "        0.        ]])"
      ]
     },
     "execution_count": 218,
     "metadata": {},
     "output_type": "execute_result"
    }
   ],
   "source": [
    "G_lu = base / num_user\n",
    "G_lu"
   ]
  },
  {
   "cell_type": "code",
   "execution_count": 219,
   "metadata": {},
   "outputs": [
    {
     "data": {
      "text/plain": [
       "array([[6.20116582e-05, 6.20116582e-05, 6.20116582e-05, ...,\n",
       "        6.20116582e-05, 6.20116582e-05, 6.20116582e-05],\n",
       "       [6.20116582e-05, 6.20116582e-05, 6.20116582e-05, ...,\n",
       "        6.20116582e-05, 6.20116582e-05, 6.20116582e-05],\n",
       "       [6.20116582e-05, 6.20116582e-05, 6.20116582e-05, ...,\n",
       "        6.20116582e-05, 6.20116582e-05, 6.20116582e-05],\n",
       "       ...,\n",
       "       [6.20116582e-05, 6.20116582e-05, 6.20116582e-05, ...,\n",
       "        6.20116582e-05, 6.20116582e-05, 6.20116582e-05],\n",
       "       [6.20116582e-05, 6.20116582e-05, 6.20116582e-05, ...,\n",
       "        6.20116582e-05, 6.20116582e-05, 1.64770143e-03],\n",
       "       [6.20116582e-05, 6.20116582e-05, 6.20116582e-05, ...,\n",
       "        5.00442135e-03, 6.20116582e-05, 6.20116582e-05]])"
      ]
     },
     "execution_count": 219,
     "metadata": {},
     "output_type": "execute_result"
    }
   ],
   "source": [
    "e = 0.85\n",
    "M = base.shape[1]\n",
    "G_lu_random = e * G_lu + (1-e) * 1/M\n",
    "# column normalize\n",
    "G_lu_random_normalized = G_lu_random / G_lu_random.sum(axis = 0, dtype = 'float')\n",
    "G_lu_random_normalized"
   ]
  },
  {
   "cell_type": "markdown",
   "metadata": {},
   "source": [
    "#### 3. Calculate location authority"
   ]
  },
  {
   "cell_type": "code",
   "execution_count": 220,
   "metadata": {},
   "outputs": [
    {
     "data": {
      "text/plain": [
       "(1083, 9989)"
      ]
     },
     "execution_count": 220,
     "metadata": {},
     "output_type": "execute_result"
    }
   ],
   "source": [
    "G_ul_random_normalized.shape"
   ]
  },
  {
   "cell_type": "code",
   "execution_count": 221,
   "metadata": {},
   "outputs": [
    {
     "data": {
      "text/plain": [
       "(9989, 1083)"
      ]
     },
     "execution_count": 221,
     "metadata": {},
     "output_type": "execute_result"
    }
   ],
   "source": [
    "G_lu_random_normalized.shape"
   ]
  },
  {
   "cell_type": "code",
   "execution_count": 225,
   "metadata": {},
   "outputs": [],
   "source": [
    "def cosine_similarity(x,y):\n",
    "    num = x.dot(y.T)\n",
    "    denom = np.linalg.norm(x) * np.linalg.norm(y)\n",
    "    return num / denom\n",
    "\n",
    "def mutual_rein(G_ul_random, G_lu_random):\n",
    "    \n",
    "    #initialize the location score vector and user score vector:\n",
    "    amount_location = G_lu_random.shape[0]\n",
    "    amount_user = G_ul_random.shape[0]\n",
    "    w_location = (np.ones(amount_location)/amount_location).T\n",
    "    w_user = (np.ones(amount_user)/amount_user).T\n",
    "    \n",
    "    i = 0\n",
    "    while True:\n",
    "        w_location_check = w_location\n",
    "        w_user_check = w_user\n",
    "        # mutual enforcement\n",
    "        #print(w_location)\n",
    "        #print(sum(w_location))\n",
    "        #print(w_user)\n",
    "        w_location = np.matmul(G_lu_random, w_user)\n",
    "        w_user = np.matmul(G_ul_random, w_location)\n",
    "        # print(G_lu_random.shape)\n",
    "        # print(w_user.shape)\n",
    "        i = i + 1\n",
    "        #print(w_location)\n",
    "        if 1 - cosine_similarity(w_location_check, w_location) < 0.0001:\n",
    "            print('number of iteration: ', i)\n",
    "            break\n",
    "        \n",
    "    return w_location"
   ]
  },
  {
   "cell_type": "code",
   "execution_count": 226,
   "metadata": {},
   "outputs": [
    {
     "name": "stdout",
     "output_type": "stream",
     "text": [
      "number of iteration:  4\n"
     ]
    }
   ],
   "source": [
    "t = mutual_rein(G_ul_random_normalized, G_lu_random_normalized)"
   ]
  },
  {
   "cell_type": "code",
   "execution_count": 237,
   "metadata": {},
   "outputs": [
    {
     "data": {
      "text/html": [
       "<div>\n",
       "<style scoped>\n",
       "    .dataframe tbody tr th:only-of-type {\n",
       "        vertical-align: middle;\n",
       "    }\n",
       "\n",
       "    .dataframe tbody tr th {\n",
       "        vertical-align: top;\n",
       "    }\n",
       "\n",
       "    .dataframe thead th {\n",
       "        text-align: right;\n",
       "    }\n",
       "</style>\n",
       "<table border=\"1\" class=\"dataframe\">\n",
       "  <thead>\n",
       "    <tr style=\"text-align: right;\">\n",
       "      <th></th>\n",
       "      <th>poi_encode</th>\n",
       "      <th>score</th>\n",
       "      <th>poi_id</th>\n",
       "    </tr>\n",
       "  </thead>\n",
       "  <tbody>\n",
       "    <tr>\n",
       "      <th>0</th>\n",
       "      <td>0</td>\n",
       "      <td>0.000102</td>\n",
       "      <td>3fd66200f964a52000e71ee3</td>\n",
       "    </tr>\n",
       "    <tr>\n",
       "      <th>1</th>\n",
       "      <td>1</td>\n",
       "      <td>0.000103</td>\n",
       "      <td>3fd66200f964a52001e81ee3</td>\n",
       "    </tr>\n",
       "    <tr>\n",
       "      <th>2</th>\n",
       "      <td>2</td>\n",
       "      <td>0.000076</td>\n",
       "      <td>3fd66200f964a52003e51ee3</td>\n",
       "    </tr>\n",
       "    <tr>\n",
       "      <th>3</th>\n",
       "      <td>3</td>\n",
       "      <td>0.000101</td>\n",
       "      <td>3fd66200f964a52003e71ee3</td>\n",
       "    </tr>\n",
       "    <tr>\n",
       "      <th>4</th>\n",
       "      <td>4</td>\n",
       "      <td>0.000106</td>\n",
       "      <td>3fd66200f964a52004e41ee3</td>\n",
       "    </tr>\n",
       "    <tr>\n",
       "      <th>...</th>\n",
       "      <td>...</td>\n",
       "      <td>...</td>\n",
       "      <td>...</td>\n",
       "    </tr>\n",
       "    <tr>\n",
       "      <th>9984</th>\n",
       "      <td>9984</td>\n",
       "      <td>0.000099</td>\n",
       "      <td>510188aae4b055abaa8e5ca7</td>\n",
       "    </tr>\n",
       "    <tr>\n",
       "      <th>9985</th>\n",
       "      <td>9985</td>\n",
       "      <td>0.000081</td>\n",
       "      <td>51073fcae4b047c0870d2216</td>\n",
       "    </tr>\n",
       "    <tr>\n",
       "      <th>9986</th>\n",
       "      <td>9986</td>\n",
       "      <td>0.000116</td>\n",
       "      <td>510c9f9de4b0ec5cc005fc87</td>\n",
       "    </tr>\n",
       "    <tr>\n",
       "      <th>9987</th>\n",
       "      <td>9987</td>\n",
       "      <td>0.000089</td>\n",
       "      <td>51140198e4b0874a568cde81</td>\n",
       "    </tr>\n",
       "    <tr>\n",
       "      <th>9988</th>\n",
       "      <td>9988</td>\n",
       "      <td>0.000082</td>\n",
       "      <td>5116fef9e4b066680e7fab07</td>\n",
       "    </tr>\n",
       "  </tbody>\n",
       "</table>\n",
       "<p>9989 rows × 3 columns</p>\n",
       "</div>"
      ],
      "text/plain": [
       "      poi_encode     score                    poi_id\n",
       "0              0  0.000102  3fd66200f964a52000e71ee3\n",
       "1              1  0.000103  3fd66200f964a52001e81ee3\n",
       "2              2  0.000076  3fd66200f964a52003e51ee3\n",
       "3              3  0.000101  3fd66200f964a52003e71ee3\n",
       "4              4  0.000106  3fd66200f964a52004e41ee3\n",
       "...          ...       ...                       ...\n",
       "9984        9984  0.000099  510188aae4b055abaa8e5ca7\n",
       "9985        9985  0.000081  51073fcae4b047c0870d2216\n",
       "9986        9986  0.000116  510c9f9de4b0ec5cc005fc87\n",
       "9987        9987  0.000089  51140198e4b0874a568cde81\n",
       "9988        9988  0.000082  5116fef9e4b066680e7fab07\n",
       "\n",
       "[9989 rows x 3 columns]"
      ]
     },
     "execution_count": 237,
     "metadata": {},
     "output_type": "execute_result"
    }
   ],
   "source": [
    "location_authority = pd.DataFrame({'score': t})\n",
    "location_authority = location_authority.reset_index()\n",
    "location_authority = location_authority.rename(columns = {'index':'poi_encode'})\n",
    "location_authority = location_authority.merge(poi_mapping_output, on = 'poi_encode', how = 'left')\n",
    "location_authority"
   ]
  },
  {
   "cell_type": "code",
   "execution_count": 256,
   "metadata": {},
   "outputs": [
    {
     "data": {
      "text/html": [
       "<div>\n",
       "<style scoped>\n",
       "    .dataframe tbody tr th:only-of-type {\n",
       "        vertical-align: middle;\n",
       "    }\n",
       "\n",
       "    .dataframe tbody tr th {\n",
       "        vertical-align: top;\n",
       "    }\n",
       "\n",
       "    .dataframe thead th {\n",
       "        text-align: right;\n",
       "    }\n",
       "</style>\n",
       "<table border=\"1\" class=\"dataframe\">\n",
       "  <thead>\n",
       "    <tr style=\"text-align: right;\">\n",
       "      <th></th>\n",
       "      <th>poi_encode</th>\n",
       "      <th>score</th>\n",
       "      <th>poi_id</th>\n",
       "    </tr>\n",
       "  </thead>\n",
       "  <tbody>\n",
       "    <tr>\n",
       "      <th>672</th>\n",
       "      <td>672</td>\n",
       "      <td>0.002309</td>\n",
       "      <td>42911d00f964a520f5231fe3</td>\n",
       "    </tr>\n",
       "    <tr>\n",
       "      <th>659</th>\n",
       "      <td>659</td>\n",
       "      <td>0.001638</td>\n",
       "      <td>42829c80f964a5206a221fe3</td>\n",
       "    </tr>\n",
       "    <tr>\n",
       "      <th>773</th>\n",
       "      <td>773</td>\n",
       "      <td>0.001523</td>\n",
       "      <td>43a52546f964a520532c1fe3</td>\n",
       "    </tr>\n",
       "    <tr>\n",
       "      <th>2858</th>\n",
       "      <td>2858</td>\n",
       "      <td>0.001431</td>\n",
       "      <td>4ace6c89f964a52078d020e3</td>\n",
       "    </tr>\n",
       "    <tr>\n",
       "      <th>1151</th>\n",
       "      <td>1151</td>\n",
       "      <td>0.001183</td>\n",
       "      <td>4840fe6bf964a52030501fe3</td>\n",
       "    </tr>\n",
       "    <tr>\n",
       "      <th>1215</th>\n",
       "      <td>1215</td>\n",
       "      <td>0.000913</td>\n",
       "      <td>49b7ed6df964a52030531fe3</td>\n",
       "    </tr>\n",
       "    <tr>\n",
       "      <th>1906</th>\n",
       "      <td>1906</td>\n",
       "      <td>0.000869</td>\n",
       "      <td>4a4821f5f964a52095aa1fe3</td>\n",
       "    </tr>\n",
       "    <tr>\n",
       "      <th>2211</th>\n",
       "      <td>2211</td>\n",
       "      <td>0.000847</td>\n",
       "      <td>4a737bf8f964a52091dc1fe3</td>\n",
       "    </tr>\n",
       "    <tr>\n",
       "      <th>387</th>\n",
       "      <td>387</td>\n",
       "      <td>0.000764</td>\n",
       "      <td>3fd66200f964a520def11ee3</td>\n",
       "    </tr>\n",
       "    <tr>\n",
       "      <th>465</th>\n",
       "      <td>465</td>\n",
       "      <td>0.000745</td>\n",
       "      <td>40b68100f964a5207d001fe3</td>\n",
       "    </tr>\n",
       "  </tbody>\n",
       "</table>\n",
       "</div>"
      ],
      "text/plain": [
       "      poi_encode     score                    poi_id\n",
       "672          672  0.002309  42911d00f964a520f5231fe3\n",
       "659          659  0.001638  42829c80f964a5206a221fe3\n",
       "773          773  0.001523  43a52546f964a520532c1fe3\n",
       "2858        2858  0.001431  4ace6c89f964a52078d020e3\n",
       "1151        1151  0.001183  4840fe6bf964a52030501fe3\n",
       "1215        1215  0.000913  49b7ed6df964a52030531fe3\n",
       "1906        1906  0.000869  4a4821f5f964a52095aa1fe3\n",
       "2211        2211  0.000847  4a737bf8f964a52091dc1fe3\n",
       "387          387  0.000764  3fd66200f964a520def11ee3\n",
       "465          465  0.000745  40b68100f964a5207d001fe3"
      ]
     },
     "execution_count": 256,
     "metadata": {},
     "output_type": "execute_result"
    }
   ],
   "source": [
    "location_authority.sort_values(by = 'score', ascending = False).head(10)"
   ]
  },
  {
   "cell_type": "code",
   "execution_count": 257,
   "metadata": {},
   "outputs": [],
   "source": [
    "test1 = df.groupby('poi_encode')['user_id'].count().reset_index()"
   ]
  },
  {
   "cell_type": "code",
   "execution_count": 258,
   "metadata": {},
   "outputs": [
    {
     "data": {
      "text/html": [
       "<div>\n",
       "<style scoped>\n",
       "    .dataframe tbody tr th:only-of-type {\n",
       "        vertical-align: middle;\n",
       "    }\n",
       "\n",
       "    .dataframe tbody tr th {\n",
       "        vertical-align: top;\n",
       "    }\n",
       "\n",
       "    .dataframe thead th {\n",
       "        text-align: right;\n",
       "    }\n",
       "</style>\n",
       "<table border=\"1\" class=\"dataframe\">\n",
       "  <thead>\n",
       "    <tr style=\"text-align: right;\">\n",
       "      <th></th>\n",
       "      <th>poi_encode</th>\n",
       "      <th>user_id</th>\n",
       "    </tr>\n",
       "  </thead>\n",
       "  <tbody>\n",
       "    <tr>\n",
       "      <th>672</th>\n",
       "      <td>672</td>\n",
       "      <td>1147</td>\n",
       "    </tr>\n",
       "    <tr>\n",
       "      <th>659</th>\n",
       "      <td>659</td>\n",
       "      <td>874</td>\n",
       "    </tr>\n",
       "    <tr>\n",
       "      <th>773</th>\n",
       "      <td>773</td>\n",
       "      <td>687</td>\n",
       "    </tr>\n",
       "    <tr>\n",
       "      <th>1151</th>\n",
       "      <td>1151</td>\n",
       "      <td>562</td>\n",
       "    </tr>\n",
       "    <tr>\n",
       "      <th>2858</th>\n",
       "      <td>2858</td>\n",
       "      <td>561</td>\n",
       "    </tr>\n",
       "    <tr>\n",
       "      <th>2211</th>\n",
       "      <td>2211</td>\n",
       "      <td>486</td>\n",
       "    </tr>\n",
       "    <tr>\n",
       "      <th>1215</th>\n",
       "      <td>1215</td>\n",
       "      <td>472</td>\n",
       "    </tr>\n",
       "    <tr>\n",
       "      <th>465</th>\n",
       "      <td>465</td>\n",
       "      <td>442</td>\n",
       "    </tr>\n",
       "    <tr>\n",
       "      <th>1906</th>\n",
       "      <td>1906</td>\n",
       "      <td>407</td>\n",
       "    </tr>\n",
       "    <tr>\n",
       "      <th>1945</th>\n",
       "      <td>1945</td>\n",
       "      <td>371</td>\n",
       "    </tr>\n",
       "  </tbody>\n",
       "</table>\n",
       "</div>"
      ],
      "text/plain": [
       "      poi_encode  user_id\n",
       "672          672     1147\n",
       "659          659      874\n",
       "773          773      687\n",
       "1151        1151      562\n",
       "2858        2858      561\n",
       "2211        2211      486\n",
       "1215        1215      472\n",
       "465          465      442\n",
       "1906        1906      407\n",
       "1945        1945      371"
      ]
     },
     "execution_count": 258,
     "metadata": {},
     "output_type": "execute_result"
    }
   ],
   "source": [
    "test1.sort_values(by = 'user_id', ascending = False).head(10)"
   ]
  },
  {
   "cell_type": "code",
   "execution_count": null,
   "metadata": {},
   "outputs": [],
   "source": []
  }
 ],
 "metadata": {
  "kernelspec": {
   "display_name": "Python 3",
   "language": "python",
   "name": "python3"
  },
  "language_info": {
   "codemirror_mode": {
    "name": "ipython",
    "version": 3
   },
   "file_extension": ".py",
   "mimetype": "text/x-python",
   "name": "python",
   "nbconvert_exporter": "python",
   "pygments_lexer": "ipython3",
   "version": "3.7.10"
  }
 },
 "nbformat": 4,
 "nbformat_minor": 4
}
