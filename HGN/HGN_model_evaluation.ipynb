{
 "cells": [
  {
   "cell_type": "markdown",
   "metadata": {},
   "source": [
    "## HGN Model Evaluation"
   ]
  },
  {
   "cell_type": "code",
   "execution_count": 1,
   "metadata": {},
   "outputs": [],
   "source": [
    "import pickle\n",
    "import math\n",
    "import numpy as np\n",
    "from scipy.sparse import csr_matrix\n",
    "from sklearn.model_selection import train_test_split\n",
    "\n",
    "dir = 'E:\\Sebnewrepo\\Rec_sys_lab\\HGN/'\n",
    "user_record_file = 'Books_item_sequences.pkl'\n",
    "user_mapping_file = 'Books_user_mapping.pkl'\n",
    "item_mapping_file = 'Books_item_mapping.pkl'"
   ]
  },
  {
   "cell_type": "markdown",
   "metadata": {},
   "source": [
    "#### Import HGN Model and Evaluation Function"
   ]
  },
  {
   "cell_type": "code",
   "execution_count": 2,
   "metadata": {
    "scrolled": true
   },
   "outputs": [],
   "source": [
    "from gating_network import HGN\n",
    "from interactions import Interactions\n",
    "from eval_metrics import *\n",
    "\n",
    "import argparse\n",
    "import logging\n",
    "from time import time\n",
    "import datetime\n",
    "import torch\n",
    "\n",
    "logging.basicConfig(level=logging.DEBUG)\n",
    "logger = logging.getLogger(__name__)\n",
    "\n",
    "device = torch.device('cuda:0' if torch.cuda.is_available() else 'cpu')\n",
    "#device = torch.device('cpu')"
   ]
  },
  {
   "cell_type": "code",
   "execution_count": 3,
   "metadata": {},
   "outputs": [
    {
     "data": {
      "text/plain": [
       "True"
      ]
     },
     "execution_count": 3,
     "metadata": {},
     "output_type": "execute_result"
    }
   ],
   "source": [
    "#check the device if available\n",
    "torch.cuda.is_available()"
   ]
  },
  {
   "cell_type": "code",
   "execution_count": 4,
   "metadata": {},
   "outputs": [],
   "source": [
    "def evaluation(hgn, train, test_set, topk=20):\n",
    "    num_users = train.num_users\n",
    "    num_items = train.num_items\n",
    "    batch_size = 1024\n",
    "    num_batches = int(num_users / batch_size) + 1\n",
    "    user_indexes = np.arange(num_users)\n",
    "    item_indexes = np.arange(num_items)\n",
    "    pred_list = None\n",
    "    train_matrix = train.tocsr()\n",
    "    test_sequences = train.test_sequences.sequences\n",
    "\n",
    "    for batchID in range(num_batches):\n",
    "        start = batchID * batch_size\n",
    "        end = start + batch_size\n",
    "\n",
    "        if batchID == num_batches - 1:\n",
    "            if start < num_users:\n",
    "                end = num_users\n",
    "            else:\n",
    "                break\n",
    "\n",
    "        batch_user_index = user_indexes[start:end]\n",
    "\n",
    "        batch_test_sequences = test_sequences[batch_user_index]\n",
    "        batch_test_sequences = np.atleast_2d(batch_test_sequences)\n",
    "\n",
    "        batch_test_sequences = torch.from_numpy(batch_test_sequences).type(torch.LongTensor).to(device)\n",
    "        item_ids = torch.from_numpy(item_indexes).type(torch.LongTensor).to(device)\n",
    "        batch_user_ids = torch.from_numpy(np.array(batch_user_index)).type(torch.LongTensor).to(device)\n",
    "\n",
    "        rating_pred = hgn(batch_test_sequences, batch_user_ids, item_ids, True)\n",
    "        rating_pred = rating_pred.cpu().data.numpy().copy()\n",
    "        rating_pred[train_matrix[batch_user_index].toarray() > 0] = 0\n",
    "\n",
    "        # reference: https://stackoverflow.com/a/23734295, https://stackoverflow.com/a/20104162\n",
    "        ind = np.argpartition(rating_pred, -topk)\n",
    "        ind = ind[:, -topk:]\n",
    "        arr_ind = rating_pred[np.arange(len(rating_pred))[:, None], ind]\n",
    "        arr_ind_argsort = np.argsort(arr_ind)[np.arange(len(rating_pred)), ::-1]\n",
    "        batch_pred_list = ind[np.arange(len(rating_pred))[:, None], arr_ind_argsort]\n",
    "\n",
    "        if batchID == 0:\n",
    "            pred_list = batch_pred_list\n",
    "        else:\n",
    "            pred_list = np.append(pred_list, batch_pred_list, axis=0)\n",
    "\n",
    "    precision, recall, MAP, ndcg = [], [], [], []\n",
    "    for k in [5, 10, 15, 20]:\n",
    "        precision.append(precision_at_k(test_set, pred_list, k))\n",
    "        recall.append(recall_at_k(test_set, pred_list, k))\n",
    "        MAP.append(mapk(test_set, pred_list, k))\n",
    "        ndcg.append(ndcg_k(test_set, pred_list, k))\n",
    "\n",
    "    return precision, recall, MAP, ndcg\n",
    "\n",
    "\n",
    "def negsamp_vectorized_bsearch_preverif(pos_inds, n_items, n_samp=32):\n",
    "    \"\"\" Pre-verified with binary search\n",
    "    `pos_inds` is assumed to be ordered\n",
    "    reference: https://tech.hbc.com/2018-03-23-negative-sampling-in-numpy.html\n",
    "    \"\"\"\n",
    "    raw_samp = np.random.randint(0, n_items - len(pos_inds), size=n_samp)\n",
    "    pos_inds_adj = pos_inds - np.arange(len(pos_inds))\n",
    "    neg_inds = raw_samp + np.searchsorted(pos_inds_adj, raw_samp, side='right')\n",
    "    return neg_inds\n",
    "\n",
    "\n",
    "def generate_negative_samples(train_matrix, num_neg=3, num_sets=10):\n",
    "    neg_samples = []\n",
    "    for user_id, row in enumerate(train_matrix):\n",
    "        pos_ind = row.indices\n",
    "        neg_sample = negsamp_vectorized_bsearch_preverif(pos_ind, train_matrix.shape[1], num_neg * num_sets)\n",
    "        neg_samples.append(neg_sample)\n",
    "\n",
    "    return np.asarray(neg_samples).reshape(num_sets, train_matrix.shape[0], num_neg)\n",
    "\n",
    "\n",
    "def train_model(train_data, test_data, config):\n",
    "    num_users = train_data.num_users\n",
    "    num_items = train_data.num_items\n",
    "\n",
    "    # convert to sequences, targets and users\n",
    "    sequences_np = train_data.sequences.sequences\n",
    "    print(sequences_np)\n",
    "    targets_np = train_data.sequences.targets\n",
    "    users_np = train_data.sequences.user_ids\n",
    "    train_matrix = train_data.tocsr()\n",
    "\n",
    "    n_train = sequences_np.shape[0]\n",
    "    logger.info(\"Total training records:{}\".format(n_train))\n",
    "\n",
    "    hgn = HGN(num_users, num_items, config, device).to(device)\n",
    "\n",
    "    optimizer = torch.optim.Adam(hgn.parameters(), lr=config.learning_rate, weight_decay=config.l2)\n",
    "\n",
    "    record_indexes = np.arange(n_train)\n",
    "    batch_size = config.batch_size\n",
    "    num_batches = int(n_train / batch_size) + 1\n",
    "    for epoch_num in range(config.n_iter):\n",
    "\n",
    "        t1 = time()\n",
    "\n",
    "        # set model to training mode\n",
    "        hgn.train()\n",
    "\n",
    "        np.random.shuffle(record_indexes)\n",
    "\n",
    "        t_neg_start = time()\n",
    "        negatives_np_multi = generate_negative_samples(train_matrix, config.neg_samples, config.sets_of_neg_samples)\n",
    "        logger.info(\"Negative sampling time: {}s\".format(time() - t_neg_start))\n",
    "\n",
    "        epoch_loss = 0.0\n",
    "        for batchID in range(num_batches):\n",
    "            start = batchID * batch_size\n",
    "            end = start + batch_size\n",
    "\n",
    "            if batchID == num_batches - 1:\n",
    "                if start < n_train:\n",
    "                    end = n_train\n",
    "                else:\n",
    "                    break\n",
    "\n",
    "            batch_record_index = record_indexes[start:end]\n",
    "\n",
    "            batch_users = users_np[batch_record_index]\n",
    "            batch_sequences = sequences_np[batch_record_index]\n",
    "            batch_targets = targets_np[batch_record_index]\n",
    "            negatives_np = negatives_np_multi[batchID % config.sets_of_neg_samples]\n",
    "            batch_neg = negatives_np[batch_users]\n",
    "\n",
    "            batch_users = torch.from_numpy(batch_users).type(torch.LongTensor).to(device)\n",
    "            batch_sequences = torch.from_numpy(batch_sequences).type(torch.LongTensor).to(device)\n",
    "            batch_targets = torch.from_numpy(batch_targets).type(torch.LongTensor).to(device)\n",
    "            batch_negatives = torch.from_numpy(batch_neg).type(torch.LongTensor).to(device)\n",
    "\n",
    "            items_to_predict = torch.cat((batch_targets, batch_negatives), 1)\n",
    "            prediction_score = hgn(batch_sequences, batch_users, items_to_predict, False)\n",
    "\n",
    "            (targets_prediction, negatives_prediction) = torch.split(\n",
    "                prediction_score, [batch_targets.size(1), batch_negatives.size(1)], dim=1)\n",
    "\n",
    "            # compute the BPR loss\n",
    "            loss = -torch.log(torch.sigmoid(targets_prediction - negatives_prediction) + 1e-8)\n",
    "            loss = torch.mean(torch.sum(loss))\n",
    "\n",
    "            epoch_loss += loss.item()\n",
    "\n",
    "            optimizer.zero_grad()\n",
    "            loss.backward()\n",
    "            optimizer.step()\n",
    "            # clean the grad, \n",
    "            #optimizer.zero_grad()\n",
    "        epoch_loss /= num_batches\n",
    "\n",
    "        t2 = time()\n",
    "\n",
    "        output_str = \"Epoch %d [%.1f s]  loss=%.4f\" % (epoch_num + 1, t2 - t1, epoch_loss)\n",
    "        logger.info(output_str)\n",
    "\n",
    "        if (epoch_num + 1) % 20 == 0:\n",
    "            hgn.eval()\n",
    "            precision, recall, MAP, ndcg = evaluation(hgn, train_data, test_data, topk=20)\n",
    "            logger.info(', '.join(str(e) for e in precision))\n",
    "            logger.info(', '.join(str(e) for e in recall))\n",
    "            logger.info(', '.join(str(e) for e in MAP))\n",
    "            logger.info(', '.join(str(e) for e in ndcg))\n",
    "            logger.info(\"Evaluation time:{}\".format(time() - t2))\n",
    "    logger.info(\"\\n\")\n",
    "    logger.info(\"\\n\")\n",
    "    "
   ]
  },
  {
   "cell_type": "markdown",
   "metadata": {},
   "source": [
    "#### Load dataset and split train-test sets"
   ]
  },
  {
   "cell_type": "code",
   "execution_count": 5,
   "metadata": {},
   "outputs": [],
   "source": [
    "def load_pickle(name):\n",
    "    with open(name, 'rb') as f:\n",
    "        return pickle.load(f, encoding='latin1')\n",
    "\n",
    "# split train test data        \n",
    "def split_data_sequentially(user_records, test_radio=0.2):\n",
    "    train_set = []\n",
    "    test_set = []\n",
    "\n",
    "    for item_list in user_records:\n",
    "        len_list = len(item_list)\n",
    "        num_test_samples = int(math.ceil(len_list * test_radio))\n",
    "        train_sample = []\n",
    "        test_sample = []\n",
    "        for i in range(len_list - num_test_samples, len_list):\n",
    "            test_sample.append(item_list[i])\n",
    "            \n",
    "        for place in item_list:\n",
    "            if place not in set(test_sample):\n",
    "                train_sample.append(place)\n",
    "                \n",
    "        train_set.append(train_sample)\n",
    "        test_set.append(test_sample)\n",
    "\n",
    "    return train_set, test_set\n",
    "    \n",
    "def data_index_shift(lists, increase_by):\n",
    "    '''\n",
    "    Increase the item index to contain the pad_index\n",
    "    :param lists:\n",
    "    :param increase_by: 1\n",
    "    :return:\n",
    "    '''\n",
    "    \n",
    "    for seq in lists:\n",
    "        for i, item_id in enumerate(seq):\n",
    "            seq[i] = item_id + increase_by\n",
    "\n",
    "    return lists\n",
    "\n",
    "def generate_dataset(index_shift=1):\n",
    "    user_records = load_pickle(dir + user_record_file)\n",
    "    user_mapping = load_pickle(dir + user_mapping_file)\n",
    "    item_mapping = load_pickle(dir + item_mapping_file)\n",
    "        \n",
    "    # validate the input data\n",
    "    #assert len(user_mapping) == 52406 and len(item_mapping) == 41264\n",
    "    # apply small dataset\n",
    "    #user_records = user_records[0:10000]\n",
    "    #user_mapping = user_mapping[0:10000]\n",
    "    \n",
    "    user_records = data_index_shift(user_records, increase_by=index_shift)\n",
    "\n",
    "    # split dataset\n",
    "    train_val_set, test_set = split_data_sequentially(user_records, test_radio=0.2)\n",
    "    train_set, val_set = split_data_sequentially(train_val_set, test_radio=0.1)\n",
    "\n",
    "    return train_set, val_set, train_val_set, test_set, len(user_mapping), len(item_mapping) + index_shift"
   ]
  },
  {
   "cell_type": "code",
   "execution_count": 6,
   "metadata": {},
   "outputs": [],
   "source": [
    "# get train test dataset\n",
    "# item_id=0 for sequence padding\n",
    "train_set, val_set, train_val_set, test_set, num_users, num_items = generate_dataset(index_shift = 1)"
   ]
  },
  {
   "cell_type": "code",
   "execution_count": 7,
   "metadata": {},
   "outputs": [],
   "source": [
    "parser = argparse.ArgumentParser()\n",
    "\n",
    "# data arguments\n",
    "parser.add_argument('--L', type=int, default=5)\n",
    "parser.add_argument('--T', type=int, default=3)\n",
    "# train arguments\n",
    "parser.add_argument('--n_iter', type=int, default=200)\n",
    "parser.add_argument('--seed', type=int, default=1234)\n",
    "parser.add_argument('--batch_size', type=int, default=4096)\n",
    "parser.add_argument('--learning_rate', type=float, default=1e-3)\n",
    "parser.add_argument('--l2', type=float, default=1e-3)\n",
    "parser.add_argument('--neg_samples', type=int, default=3)\n",
    "parser.add_argument('--sets_of_neg_samples', type=int, default=50)\n",
    "\n",
    "# model dependent arguments\n",
    "parser.add_argument('--d', type=int, default=50)\n",
    "config = parser.parse_args(\n",
    "    args = [\n",
    "        '--L', '5',\n",
    "        '--T', '3',\n",
    "        '--n_iter', '1',\n",
    "        '--seed', '1200',\n",
    "        '--batch_size', '4000',\n",
    "        '--learning_rate', '0.001',\n",
    "        '--l2', '0.001',\n",
    "        '--neg_samples', '3',\n",
    "        '--sets_of_neg_samples', '50'\n",
    "    ])"
   ]
  },
  {
   "cell_type": "code",
   "execution_count": 8,
   "metadata": {},
   "outputs": [],
   "source": [
    "train = Interactions(train_val_set, num_users, num_items)"
   ]
  },
  {
   "cell_type": "code",
   "execution_count": 9,
   "metadata": {},
   "outputs": [
    {
     "data": {
      "text/plain": [
       "52406"
      ]
     },
     "execution_count": 9,
     "metadata": {},
     "output_type": "execute_result"
    }
   ],
   "source": [
    "train.num_users"
   ]
  },
  {
   "cell_type": "code",
   "execution_count": 10,
   "metadata": {
    "scrolled": true
   },
   "outputs": [
    {
     "name": "stderr",
     "output_type": "stream",
     "text": [
      "INFO:__main__:2021-05-23 12:04:20\n",
      "INFO:__main__:Namespace(L=5, T=3, batch_size=4000, d=50, l2=0.001, learning_rate=0.001, n_iter=1, neg_samples=3, seed=1200, sets_of_neg_samples=50)\n",
      "INFO:__main__:Total training records:1097612\n"
     ]
    },
    {
     "name": "stdout",
     "output_type": "stream",
     "text": [
      "[[30761 24287 31427 25107 25129]\n",
      " [21242 21014 12180 16462 25352]\n",
      " [24740 21242 21014 12180 16462]\n",
      " ...\n",
      " [29020 18596 13589 12496 38343]\n",
      " [39305 29020 18596 13589 12496]\n",
      " [31673 39305 29020 18596 13589]]\n"
     ]
    },
    {
     "name": "stderr",
     "output_type": "stream",
     "text": [
      "INFO:__main__:Negative sampling time: 2.690805435180664s\n",
      "INFO:__main__:Epoch 1 [6.2 s]  loss=6412.2515\n",
      "INFO:__main__:\n",
      "\n",
      "INFO:__main__:\n",
      "\n"
     ]
    }
   ],
   "source": [
    "\n",
    "train = Interactions(train_val_set, num_users, num_items)\n",
    "train.to_sequence(config.L, config.T)\n",
    "\n",
    "logger.info(datetime.datetime.now().strftime(\"%Y-%m-%d %H:%M:%S\"))\n",
    "logger.info(config)\n",
    "train_model(train, test_set, config)"
   ]
  },
  {
   "cell_type": "code",
   "execution_count": null,
   "metadata": {},
   "outputs": [],
   "source": []
  },
  {
   "cell_type": "code",
   "execution_count": null,
   "metadata": {},
   "outputs": [],
   "source": []
  },
  {
   "cell_type": "code",
   "execution_count": null,
   "metadata": {},
   "outputs": [],
   "source": []
  }
 ],
 "metadata": {
  "kernelspec": {
   "display_name": "Python 3",
   "language": "python",
   "name": "python3"
  },
  "language_info": {
   "codemirror_mode": {
    "name": "ipython",
    "version": 3
   },
   "file_extension": ".py",
   "mimetype": "text/x-python",
   "name": "python",
   "nbconvert_exporter": "python",
   "pygments_lexer": "ipython3",
   "version": "3.7.10"
  }
 },
 "nbformat": 4,
 "nbformat_minor": 4
}
